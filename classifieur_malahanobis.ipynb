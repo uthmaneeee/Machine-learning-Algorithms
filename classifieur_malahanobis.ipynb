{
 "cells": [
  {
   "cell_type": "code",
   "execution_count": 43,
   "id": "ba36cdc9",
   "metadata": {},
   "outputs": [],
   "source": [
    "import numpy as np\n",
    "import pandas as pd \n",
    "import matplotlib.pyplot as plt\n",
    "from tabulate import tabulate\n",
    "colors =['r','b','g','c','m']"
   ]
  },
  {
   "cell_type": "code",
   "execution_count": 17,
   "id": "38e8b885",
   "metadata": {},
   "outputs": [],
   "source": [
    "header_list = [\"Classe\", \"X\", \"Y\"]\n",
    "data_train=pd.read_csv('data_tp1_app.txt', sep = ' ' ,names=header_list)\n",
    "data_test=pd.read_csv('data_tp1_dec.txt', sep = ' ' ,names=header_list)\n",
    "data_train2=pd.read_csv('data_tp2_app.txt', sep = ' ' ,names=header_list)\n",
    "data_test2=pd.read_csv('data_tp2_dec.txt', sep = ' ' ,names=header_list)\n",
    "data_train3=pd.read_csv('data_tp3_app.txt', sep = ' ' ,names=header_list)\n",
    "data_test3=pd.read_csv('data_tp3_dec.txt', sep = ' ' ,names=header_list)"
   ]
  },
  {
   "cell_type": "code",
   "execution_count": 18,
   "id": "8b8585aa",
   "metadata": {},
   "outputs": [],
   "source": [
    "def center(X,Y):\n",
    "    return np.mean(X),np.mean(Y)"
   ]
  },
  {
   "cell_type": "code",
   "execution_count": 19,
   "id": "eb1b5a49",
   "metadata": {},
   "outputs": [],
   "source": [
    "def apply_centers(train):\n",
    "    centres=[]\n",
    "    l=train.shape[0]\n",
    "    j=0\n",
    "    for i in range(int(l/5),int((l/5))*6,int(l/5)):\n",
    "        centres.append(center(train.X[j:i],train.Y[j:i]))\n",
    "        j+=int(l/5)\n",
    "    return centres"
   ]
  },
  {
   "cell_type": "code",
   "execution_count": 20,
   "id": "997e826c",
   "metadata": {},
   "outputs": [],
   "source": [
    "def get_covs(train,classes):\n",
    "    l=train.shape[0]\n",
    "    Covs=np.zeros(((classes,2,2)))\n",
    "    j=0\n",
    "    k=0\n",
    "    for i in range(int(l/5),int((l/5))*6,int(l/5)):\n",
    "        Covs[k]=np.cov(train.X[j:i],train.Y[j:i])\n",
    "        j+=int(l/5)\n",
    "        k+=1\n",
    "    return Covs"
   ]
  },
  {
   "cell_type": "code",
   "execution_count": 21,
   "id": "b0d42ba1",
   "metadata": {},
   "outputs": [],
   "source": [
    "def inv(m):\n",
    "    a, b = m.shape\n",
    "    if a != b:\n",
    "        raise ValueError(\"Only square matrices are invertible.\")\n",
    "    i = np.eye(a, a)\n",
    "    return np.linalg.lstsq(m, i)[0]\n"
   ]
  },
  {
   "cell_type": "code",
   "execution_count": 32,
   "id": "6efe8c82",
   "metadata": {},
   "outputs": [],
   "source": [
    "def Distance(test,centres,Covs,classes):\n",
    "    A=test.shape[0]\n",
    "    Distance = np.zeros((A,classes))\n",
    "    for j in range(A):\n",
    "        for k in range(classes):\n",
    "            Distance[j,k] =np.array(test.iloc[j,[1,2]] - centres[k]).T@inv(Covs[k])@np.array(test.iloc[j,[1,2]] - centres[k])\n",
    "    return Distance\n",
    "    "
   ]
  },
  {
   "cell_type": "code",
   "execution_count": 33,
   "id": "ab600511",
   "metadata": {},
   "outputs": [],
   "source": [
    "def get_closest_classes(Distance):\n",
    "    ligne=Distance.shape[0]\n",
    "    \"indice des deux les plus proches\"\n",
    "    indice_deux_proches= np.zeros((ligne,2))\n",
    "    for k in range(ligne):\n",
    "        indice_deux_proches[k]= pd.Series(Distance[k,:]).nsmallest(2).index\n",
    "    return indice_deux_proches"
   ]
  },
  {
   "cell_type": "code",
   "execution_count": 34,
   "id": "e69b064e",
   "metadata": {},
   "outputs": [],
   "source": [
    "def confusion_matrix(actual, predicted):\n",
    "    Lenghtt = len(actual)\n",
    "    top1=0\n",
    "    top2=0\n",
    "    # extraire les differents classes\n",
    "    classes = np.unique(actual)\n",
    "\n",
    "    matrix = np.zeros((len(classes), len(classes)))\n",
    "\n",
    "    for i in range(len(classes)):\n",
    "        for j in range(len(classes)):\n",
    "            matrix[i, j] = np.sum((actual == classes[i]) & (predicted[:,0] == classes[j]))\n",
    "    for k in range(Lenghtt):\n",
    "        if actual[k] == predicted[k,0]:\n",
    "            top1+=1\n",
    "            top2+=1\n",
    "        elif actual[k] == predicted[k,1]:\n",
    "            top2+=1\n",
    "            \n",
    "    \n",
    "\n",
    "    return matrix,top1/Lenghtt,top2/Lenghtt\n"
   ]
  },
  {
   "cell_type": "code",
   "execution_count": 35,
   "id": "dd3ba54f",
   "metadata": {},
   "outputs": [],
   "source": [
    "def fct_Test(train,test,classes):\n",
    "    centres=apply_centers(train)\n",
    "    covs=get_covs(train,classes)\n",
    "    distance=Distance(test,centres,covs,classes)\n",
    "    indice_deux_proches=get_closest_classes(distance)\n",
    "    Matrix,top1,top2=confusion_matrix(test.Classe,indice_deux_proches+1)\n",
    "    return Matrix,top1,top2"
   ]
  },
  {
   "cell_type": "code",
   "execution_count": null,
   "id": "1f4f0217",
   "metadata": {},
   "outputs": [],
   "source": []
  },
  {
   "cell_type": "markdown",
   "id": "3ca3269b",
   "metadata": {},
   "source": [
    "### Test"
   ]
  },
  {
   "cell_type": "markdown",
   "id": "2f4b8ab0",
   "metadata": {},
   "source": [
    "On teste notre modèle en utilisant les données TP1"
   ]
  },
  {
   "cell_type": "code",
   "execution_count": 36,
   "id": "5adab5a1",
   "metadata": {},
   "outputs": [],
   "source": [
    "classes=5"
   ]
  },
  {
   "cell_type": "code",
   "execution_count": 37,
   "id": "16ede00b",
   "metadata": {},
   "outputs": [
    {
     "name": "stderr",
     "output_type": "stream",
     "text": [
      "C:\\Users\\Name\\AppData\\Local\\Temp\\ipykernel_18168\\3631987261.py:6: FutureWarning: `rcond` parameter will change to the default of machine precision times ``max(M, N)`` where M and N are the input matrix dimensions.\n",
      "To use the future default and silence this warning we advise to pass `rcond=None`, to keep using the old, explicitly pass `rcond=-1`.\n",
      "  return np.linalg.lstsq(m, i)[0]\n"
     ]
    }
   ],
   "source": [
    "Matrix,top1,top2=fct_Test(data_train,data_test,classes)"
   ]
  },
  {
   "cell_type": "code",
   "execution_count": 38,
   "id": "166e865f",
   "metadata": {},
   "outputs": [
    {
     "data": {
      "text/plain": [
       "(array([[ 99.,   0.,   0.,   0.,   1.],\n",
       "        [  0., 100.,   0.,   0.,   0.],\n",
       "        [  0.,   0., 100.,   0.,   0.],\n",
       "        [  0.,   0.,   0., 100.,   0.],\n",
       "        [  0.,   0.,   0.,   1.,  99.]]),\n",
       " 0.996,\n",
       " 0.998)"
      ]
     },
     "execution_count": 38,
     "metadata": {},
     "output_type": "execute_result"
    }
   ],
   "source": [
    "Matrix,top1,top2"
   ]
  },
  {
   "cell_type": "markdown",
   "id": "413e4023",
   "metadata": {},
   "source": [
    "On teste notre modèle en utilisant les données TP2"
   ]
  },
  {
   "cell_type": "code",
   "execution_count": 39,
   "id": "2fa77bce",
   "metadata": {},
   "outputs": [
    {
     "name": "stderr",
     "output_type": "stream",
     "text": [
      "C:\\Users\\Name\\AppData\\Local\\Temp\\ipykernel_18168\\3631987261.py:6: FutureWarning: `rcond` parameter will change to the default of machine precision times ``max(M, N)`` where M and N are the input matrix dimensions.\n",
      "To use the future default and silence this warning we advise to pass `rcond=None`, to keep using the old, explicitly pass `rcond=-1`.\n",
      "  return np.linalg.lstsq(m, i)[0]\n"
     ]
    }
   ],
   "source": [
    "Matrix,top1,top2=fct_Test(data_train2,data_test2,classes)"
   ]
  },
  {
   "cell_type": "code",
   "execution_count": 40,
   "id": "a3f886dd",
   "metadata": {},
   "outputs": [
    {
     "data": {
      "text/plain": [
       "(array([[99.,  0.,  1.,  0.,  0.],\n",
       "        [ 0., 95.,  5.,  0.,  0.],\n",
       "        [ 0.,  4., 91.,  2.,  3.],\n",
       "        [ 0.,  0.,  3., 97.,  0.],\n",
       "        [ 0.,  0.,  5.,  0., 95.]]),\n",
       " 0.954,\n",
       " 0.994)"
      ]
     },
     "execution_count": 40,
     "metadata": {},
     "output_type": "execute_result"
    }
   ],
   "source": [
    "Matrix,top1,top2"
   ]
  },
  {
   "cell_type": "markdown",
   "id": "a1f24352",
   "metadata": {},
   "source": [
    "On teste notre modèle en utilisant les données TP3"
   ]
  },
  {
   "cell_type": "code",
   "execution_count": 41,
   "id": "8a27421a",
   "metadata": {},
   "outputs": [
    {
     "name": "stderr",
     "output_type": "stream",
     "text": [
      "C:\\Users\\Name\\AppData\\Local\\Temp\\ipykernel_18168\\3631987261.py:6: FutureWarning: `rcond` parameter will change to the default of machine precision times ``max(M, N)`` where M and N are the input matrix dimensions.\n",
      "To use the future default and silence this warning we advise to pass `rcond=None`, to keep using the old, explicitly pass `rcond=-1`.\n",
      "  return np.linalg.lstsq(m, i)[0]\n"
     ]
    }
   ],
   "source": [
    "Matrix,top1,top2=fct_Test(data_train3,data_test3,classes)"
   ]
  },
  {
   "cell_type": "code",
   "execution_count": 42,
   "id": "2357ca35",
   "metadata": {},
   "outputs": [
    {
     "data": {
      "text/plain": [
       "(array([[55., 18., 12.,  6.,  9.],\n",
       "        [15., 80.,  2.,  0.,  3.],\n",
       "        [19.,  4., 76.,  1.,  0.],\n",
       "        [39.,  0.,  7., 53.,  1.],\n",
       "        [10.,  7.,  0.,  0., 83.]]),\n",
       " 0.694,\n",
       " 0.87)"
      ]
     },
     "execution_count": 42,
     "metadata": {},
     "output_type": "execute_result"
    }
   ],
   "source": [
    "Matrix,top1,top2"
   ]
  },
  {
   "cell_type": "code",
   "execution_count": null,
   "id": "752c1fbb",
   "metadata": {},
   "outputs": [],
   "source": []
  },
  {
   "cell_type": "markdown",
   "id": "d4babaff",
   "metadata": {},
   "source": [
    "### Conclusion"
   ]
  },
  {
   "cell_type": "code",
   "execution_count": null,
   "id": "2b0649ac",
   "metadata": {},
   "outputs": [],
   "source": [
    " Ce classifieur ne prend pas en compte juste la distance directe , mais plutot la variance et la corrélation des données"
   ]
  },
  {
   "cell_type": "markdown",
   "id": "44d842c1",
   "metadata": {},
   "source": [
    "### Conclusion pour l'estimateur gaussien"
   ]
  },
  {
   "cell_type": "code",
   "execution_count": 45,
   "id": "11ff1d46",
   "metadata": {},
   "outputs": [
    {
     "name": "stdout",
     "output_type": "stream",
     "text": [
      "---  --------------  --------------  ----------------  ----------------\n",
      "     TOP1 euclidien  TOP2 euclidien  TOP1 malahanobis  TOP2 malahanobis\n",
      "TP1  0.992           1.0             0.996             0.998\n",
      "TP2  0.946           0.996           0.954             0.994\n",
      "TP3  0.728           0.892           0.694             0.87\n",
      "---  --------------  --------------  ----------------  ----------------\n"
     ]
    }
   ],
   "source": [
    "table = [['', 'TOP1 euclidien', 'TOP2 euclidien','TOP1 malahanobis','TOP2 malahanobis'], \n",
    "         ['TP1', '0.992', '1.0',' 0.996','0.998'], \n",
    "         ['TP2', '0.946', '0.996','0.954','0.994'], \n",
    "         ['TP3', '0.728', '0.892','0.694','0.87']]\n",
    "print(tabulate(table))"
   ]
  },
  {
   "cell_type": "markdown",
   "id": "819ceee3",
   "metadata": {},
   "source": [
    "On remarque qu'avec la distance de malahanobis , Pour les données TP1,TP2 , on a eu des meilleurs performances pour le top1 par rapport à la distance euclidienne"
   ]
  },
  {
   "cell_type": "markdown",
   "id": "b28624b1",
   "metadata": {},
   "source": [
    "Pour les données TP3 , on a eu des meilleurs performances en utilisant la distance euclidienne"
   ]
  },
  {
   "cell_type": "markdown",
   "id": "9fd7679f",
   "metadata": {},
   "source": [
    "C'est résultats se justifient par la distribution différentes des données"
   ]
  },
  {
   "cell_type": "code",
   "execution_count": null,
   "id": "20aaa53b",
   "metadata": {},
   "outputs": [],
   "source": []
  }
 ],
 "metadata": {
  "kernelspec": {
   "display_name": "Python 3 (ipykernel)",
   "language": "python",
   "name": "python3"
  },
  "language_info": {
   "codemirror_mode": {
    "name": "ipython",
    "version": 3
   },
   "file_extension": ".py",
   "mimetype": "text/x-python",
   "name": "python",
   "nbconvert_exporter": "python",
   "pygments_lexer": "ipython3",
   "version": "3.9.12"
  }
 },
 "nbformat": 4,
 "nbformat_minor": 5
}
