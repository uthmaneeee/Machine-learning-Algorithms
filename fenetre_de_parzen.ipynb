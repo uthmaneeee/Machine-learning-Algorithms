{
 "cells": [
  {
   "cell_type": "markdown",
   "id": "04da4324",
   "metadata": {},
   "source": [
    "### OTHMANE NABGOURI\n"
   ]
  },
  {
   "cell_type": "code",
   "execution_count": 263,
   "id": "22c7bd80",
   "metadata": {},
   "outputs": [],
   "source": [
    "import numpy as np\n",
    "import pandas as pd\n",
    "from tabulate import tabulate"
   ]
  },
  {
   "cell_type": "code",
   "execution_count": 264,
   "id": "48f96bac",
   "metadata": {},
   "outputs": [],
   "source": [
    "header_list = [\"Classe\", \"X\", \"Y\"]\n",
    "data_train=pd.read_csv('data_tp1_app.txt', sep = ' ' ,names=header_list)\n",
    "data_test=pd.read_csv('data_tp1_dec.txt', sep = ' ' ,names=header_list)\n",
    "data_train2=pd.read_csv('data_tp2_app.txt', sep = ' ' ,names=header_list)\n",
    "data_test2=pd.read_csv('data_tp2_dec.txt', sep = ' ' ,names=header_list)\n",
    "data_train3=pd.read_csv('data_tp3_app.txt', sep = ' ' ,names=header_list)\n",
    "data_test3=pd.read_csv('data_tp3_dec.txt', sep = ' ' ,names=header_list)\n",
    "\n",
    "\n"
   ]
  },
  {
   "cell_type": "markdown",
   "id": "fb7ec110",
   "metadata": {},
   "source": [
    "On fait ici aucune supposition sur la distribution des données. On considère juste que chaque classe a une densité de probabilité que respecte les échantillons de la vérité terrain , a chaque echantillon est attribué le noyau : "
   ]
  },
  {
   "cell_type": "markdown",
   "id": "c42bf1e8",
   "metadata": {},
   "source": [
    "$f(x) = \\frac{1}{n} \\sum_{i} \\phi(x-x_{i})$"
   ]
  },
  {
   "cell_type": "markdown",
   "id": "ecd51efa",
   "metadata": {},
   "source": [
    "### 1-Création des noyaux"
   ]
  },
  {
   "cell_type": "markdown",
   "id": "90b55b1d",
   "metadata": {},
   "source": [
    "### Noyau uniform"
   ]
  },
  {
   "cell_type": "markdown",
   "id": "8defa3e2",
   "metadata": {},
   "source": [
    "On est dans deux dimentions , donc on va créer une densité de probabilité uniform de taille h*h , si la donnée a predire se trouve dans cette densité de probabilité , alors on retourne 1/h^^2 , sinon 0.\n",
    "avec h : bandwith  \n"
   ]
  },
  {
   "cell_type": "code",
   "execution_count": 265,
   "id": "0ac2ceea",
   "metadata": {},
   "outputs": [],
   "source": [
    "def noyau_uniform(x,y,h) :\n",
    "    if (np.abs(x[0]-y[0]) <= h**2) and (np.abs(x[1]-y[1]) <= h**2) :\n",
    "        return 1/(h**2)\n",
    "    else :\n",
    "        return 0"
   ]
  },
  {
   "cell_type": "markdown",
   "id": "31245c50",
   "metadata": {},
   "source": [
    "### Noyau gaussien"
   ]
  },
  {
   "cell_type": "markdown",
   "id": "892dd2d9",
   "metadata": {},
   "source": [
    "Il faut implémenter maintenant le Kernel suivant : $\\phi(x,x_{i}) = \\frac{1}{2\\pi\\sigma^{2}} e^{\\frac{-||x-x_{i}||^{2}}{2\\sigma^{2}}}$"
   ]
  },
  {
   "cell_type": "code",
   "execution_count": 267,
   "id": "b035e5d6",
   "metadata": {},
   "outputs": [],
   "source": [
    "def noyau_gaussien(x,y,h) :\n",
    "    return np.exp(-(np.sqrt((x[0] - y[0])**2 + (x[1] - y[1])**2))**2/(2*(h**2)))"
   ]
  },
  {
   "cell_type": "markdown",
   "id": "acf91365",
   "metadata": {},
   "source": [
    "### 2-Appliquer cette fenetre sur les données"
   ]
  },
  {
   "cell_type": "code",
   "execution_count": 268,
   "id": "40affea7",
   "metadata": {},
   "outputs": [],
   "source": [
    "###cette premiere fonction permet d'appliquer le noyau pour chaque donne de test avec tout les donnéés d'entrainement\n",
    "### inconvenient : complexité proportionnel a N , c'est l'inconvenient de tout les methodes non parametriques\n",
    "def apply_noyau(noyau,h,train,test):\n",
    "    X=train.shape[0]\n",
    "    Y=test.shape[0]\n",
    "    Parzen = np.zeros((Y,X))\n",
    "    for i in range(Y):\n",
    "        for j in range(X):\n",
    "            Parzen[i,j] = noyau(train.iloc[j,[1,2]],test.iloc[i,[1,2]],h)\n",
    "    return Parzen\n",
    "    "
   ]
  },
  {
   "cell_type": "code",
   "execution_count": 269,
   "id": "a4e9343e",
   "metadata": {},
   "outputs": [],
   "source": [
    "### Cette fonction permet de sommer pour chaque point de test , tout les valeurs non null du noyau , pour chaque classe !\n",
    "### On aura a la fin une matrice dont chaque element de cordonnes(i,j) est la densité que l'element de test i appartient a la\n",
    "### classe j\n",
    "def density(Parzen,train,test):\n",
    "    #Parzen = apply_noyau(noyau,h)\n",
    "    X=train.shape[0]\n",
    "    Y=test.shape[0]\n",
    "    NOYAU = np.zeros((Y,5))\n",
    "    for i in range(Y):\n",
    "        k=0\n",
    "        list_ctr=[]\n",
    "        ctr=0\n",
    "        for j in range(int(X/5),int((X/5))*6,int(X/5)):\n",
    "            for t in range(k,j):\n",
    "                    ctr+=Parzen[i,t]\n",
    "            list_ctr.append(ctr)\n",
    "            k=j\n",
    "            ctr=0\n",
    "        NOYAU[i]=np.array(list_ctr)\n",
    "    return NOYAU\n",
    "    \n"
   ]
  },
  {
   "cell_type": "code",
   "execution_count": 270,
   "id": "cda8e63c",
   "metadata": {},
   "outputs": [],
   "source": [
    "def get_closest(NOYAU,test):\n",
    "    \"indice des deux les plus proches\"\n",
    "    X,Y=test.shape\n",
    "    indice_deux_proches= np.zeros((X,2))\n",
    "    for k in range(X):\n",
    "        indice_deux_proches[k]= pd.Series(NOYAU [k,:]).nlargest(2).index\n",
    "    return  indice_deux_proches\n",
    "    "
   ]
  },
  {
   "cell_type": "code",
   "execution_count": 271,
   "id": "65a8fa15",
   "metadata": {},
   "outputs": [],
   "source": [
    "def confusion_matrix(actual, predicted):\n",
    "    Lenghtt = len(actual)\n",
    "    top1=0\n",
    "    top2=0\n",
    "    # extraire les differents classes\n",
    "    classes = np.unique(actual)\n",
    "\n",
    "    matrix = np.zeros((len(classes), len(classes)))\n",
    "\n",
    "    for i in range(len(classes)):\n",
    "        for j in range(len(classes)):\n",
    "            matrix[i, j] = np.sum((actual == classes[i]) & (predicted[:,0] == classes[j]))\n",
    "    for k in range(Lenghtt):\n",
    "        if actual[k] == predicted[k,0]:\n",
    "            top1+=1\n",
    "            top2+=1\n",
    "        elif actual[k] == predicted[k,1]:\n",
    "            top2+=1\n",
    "            \n",
    "    \n",
    "\n",
    "    return matrix,top1/Lenghtt,top2/Lenghtt\n"
   ]
  },
  {
   "cell_type": "markdown",
   "id": "baecf9e1",
   "metadata": {},
   "source": [
    "### 3-Test "
   ]
  },
  {
   "cell_type": "markdown",
   "id": "5bb8f8b9",
   "metadata": {},
   "source": [
    "### Noyau uniform"
   ]
  },
  {
   "cell_type": "code",
   "execution_count": 272,
   "id": "006a8b65",
   "metadata": {},
   "outputs": [],
   "source": [
    "h=2"
   ]
  },
  {
   "cell_type": "code",
   "execution_count": 273,
   "id": "63fe4f09",
   "metadata": {},
   "outputs": [
    {
     "name": "stdout",
     "output_type": "stream",
     "text": [
      "fenetre de parzen en utilisant les données de TP1\n"
     ]
    },
    {
     "data": {
      "text/plain": [
       "(array([[ 99.,   0.,   0.,   0.,   1.],\n",
       "        [  0., 100.,   0.,   0.,   0.],\n",
       "        [  0.,   0., 100.,   0.,   0.],\n",
       "        [  0.,   0.,   0., 100.,   0.],\n",
       "        [  1.,   0.,   0.,   0.,  99.]]),\n",
       " 0.996,\n",
       " 0.998)"
      ]
     },
     "execution_count": 273,
     "metadata": {},
     "output_type": "execute_result"
    }
   ],
   "source": [
    "print('fenetre de parzen en utilisant les données de TP1')\n",
    "Parzen=apply_noyau(noyau_uniform,h,data_train,data_test)\n",
    "NOYAU=density(Parzen,data_train,data_test)\n",
    "indice_deux_proches=get_closest(NOYAU,data_test)\n",
    "Matrix,top1,top2=confusion_matrix(data_test.Classe,indice_deux_proches+1)\n",
    "Matrix,top1,top2"
   ]
  },
  {
   "cell_type": "code",
   "execution_count": 154,
   "id": "e24b2d3d",
   "metadata": {},
   "outputs": [
    {
     "name": "stdout",
     "output_type": "stream",
     "text": [
      "fenetre de parzen en utilisant les données de TP2\n"
     ]
    },
    {
     "data": {
      "text/plain": [
       "(array([[100.,   0.,   0.,   0.,   0.],\n",
       "        [  0.,  98.,   2.,   0.,   0.],\n",
       "        [  0.,   8.,  81.,   0.,  11.],\n",
       "        [  0.,   1.,   4.,  95.,   0.],\n",
       "        [  0.,   0.,   1.,   0.,  99.]]),\n",
       " 0.946,\n",
       " 0.992)"
      ]
     },
     "execution_count": 154,
     "metadata": {},
     "output_type": "execute_result"
    }
   ],
   "source": [
    "print('fenetre de parzen en utilisant les données de TP2')\n",
    "Parzen=apply_noyau(noyau_uniform,h,data_train2,data_test2)\n",
    "NOYAU=density(Parzen,data_train2,data_test2)\n",
    "indice_deux_proches=get_closest(NOYAU,data_test2)\n",
    "Matrix,top1,top2=confusion_matrix(data_test2.Classe,indice_deux_proches+1)\n",
    "Matrix,top1,top2"
   ]
  },
  {
   "cell_type": "code",
   "execution_count": 153,
   "id": "551730d5",
   "metadata": {},
   "outputs": [
    {
     "name": "stdout",
     "output_type": "stream",
     "text": [
      "fenetre de parzen en utilisant les données de TP3\n"
     ]
    },
    {
     "data": {
      "text/plain": [
       "(array([[31., 15., 21., 15., 18.],\n",
       "        [ 9., 79.,  7.,  0.,  5.],\n",
       "        [13.,  3., 81.,  3.,  0.],\n",
       "        [ 4.,  0.,  0., 81., 15.],\n",
       "        [ 5., 10.,  0.,  0., 85.]]),\n",
       " 0.714,\n",
       " 0.898)"
      ]
     },
     "execution_count": 153,
     "metadata": {},
     "output_type": "execute_result"
    }
   ],
   "source": [
    "print('fenetre de parzen en utilisant les données de TP3')\n",
    "Parzen=apply_noyau(noyau_uniform,h,data_train3,data_test3)\n",
    "NOYAU=density(Parzen,data_train3,data_test3)\n",
    "indice_deux_proches=get_closest(NOYAU,data_test3)\n",
    "Matrix,top1,top2=confusion_matrix(data_test3.Classe,indice_deux_proches+1)\n",
    "Matrix,top1,top2"
   ]
  },
  {
   "cell_type": "markdown",
   "id": "7cdb26e4",
   "metadata": {},
   "source": [
    "### Noyau Gaussien"
   ]
  },
  {
   "cell_type": "code",
   "execution_count": 97,
   "id": "d09bc97c",
   "metadata": {},
   "outputs": [],
   "source": [
    "h=2"
   ]
  },
  {
   "cell_type": "code",
   "execution_count": 155,
   "id": "6a42115d",
   "metadata": {},
   "outputs": [
    {
     "name": "stdout",
     "output_type": "stream",
     "text": [
      "fenetre de parzen en utilisant les données de TP1\n"
     ]
    },
    {
     "data": {
      "text/plain": [
       "(array([[100.,   0.,   0.,   0.,   0.],\n",
       "        [  0., 100.,   0.,   0.,   0.],\n",
       "        [  0.,   0.,  99.,   0.,   1.],\n",
       "        [  0.,   0.,   0.,  99.,   1.],\n",
       "        [  0.,   1.,   0.,   0.,  99.]]),\n",
       " 0.994,\n",
       " 1.0)"
      ]
     },
     "execution_count": 155,
     "metadata": {},
     "output_type": "execute_result"
    }
   ],
   "source": [
    "print('fenetre de parzen en utilisant les données de TP1')\n",
    "Parzen=apply_noyau(noyau_gaussien,h,data_train,data_test)\n",
    "NOYAU=density(Parzen,data_train,data_test)\n",
    "indice_deux_proches=get_closest(NOYAU,data_test)\n",
    "Matrix,top1,top2=confusion_matrix(data_test.Classe,indice_deux_proches+1)\n",
    "Matrix,top1,top2"
   ]
  },
  {
   "cell_type": "code",
   "execution_count": 156,
   "id": "a11a19e6",
   "metadata": {},
   "outputs": [
    {
     "name": "stdout",
     "output_type": "stream",
     "text": [
      "fenetre de parzen en utilisant les données de TP2\n"
     ]
    },
    {
     "data": {
      "text/plain": [
       "(array([[100.,   0.,   0.,   0.,   0.],\n",
       "        [  0.,  98.,   2.,   0.,   0.],\n",
       "        [  0.,   8.,  82.,   0.,  10.],\n",
       "        [  0.,   1.,   4.,  95.,   0.],\n",
       "        [  0.,   0.,   1.,   0.,  99.]]),\n",
       " 0.948,\n",
       " 0.992)"
      ]
     },
     "execution_count": 156,
     "metadata": {},
     "output_type": "execute_result"
    }
   ],
   "source": [
    "print('fenetre de parzen en utilisant les données de TP2')\n",
    "Parzen2=apply_noyau(noyau_gaussien,h,data_train2,data_test2)\n",
    "NOYAU2=density(Parzen2,data_train2,data_test2)\n",
    "indice_deux_proches2=get_closest(NOYAU2,data_test2)\n",
    "Matrix,top1,top2=confusion_matrix(data_test2.Classe,indice_deux_proches2+1)\n",
    "Matrix,top1,top2"
   ]
  },
  {
   "cell_type": "code",
   "execution_count": 157,
   "id": "31b91792",
   "metadata": {},
   "outputs": [
    {
     "name": "stdout",
     "output_type": "stream",
     "text": [
      "fenetre de parzen en utilisant les données de TP3\n"
     ]
    },
    {
     "data": {
      "text/plain": [
       "(array([[32., 15., 21., 16., 16.],\n",
       "        [12., 78.,  6.,  0.,  4.],\n",
       "        [14.,  3., 79.,  4.,  0.],\n",
       "        [ 6.,  0.,  0., 87.,  7.],\n",
       "        [ 6.,  5.,  0.,  0., 89.]]),\n",
       " 0.73,\n",
       " 0.9)"
      ]
     },
     "execution_count": 157,
     "metadata": {},
     "output_type": "execute_result"
    }
   ],
   "source": [
    "print('fenetre de parzen en utilisant les données de TP3')\n",
    "Parzen=apply_noyau(noyau_gaussien,h,data_train3,data_test3)\n",
    "NOYAU=density(Parzen,data_train3,data_test3)\n",
    "indice_deux_proches=get_closest(NOYAU,data_test3)\n",
    "Matrix,top1,top2=confusion_matrix(data_test3.Classe,indice_deux_proches+1)\n",
    "Matrix,top1,top2"
   ]
  },
  {
   "cell_type": "markdown",
   "id": "bcca4edd",
   "metadata": {},
   "source": [
    "### Conclusion"
   ]
  },
  {
   "cell_type": "code",
   "execution_count": 158,
   "id": "b369d3d9",
   "metadata": {},
   "outputs": [
    {
     "name": "stdout",
     "output_type": "stream",
     "text": [
      "------------------------------  ------------------  ------------------  -------------------  -------------------\n",
      "Source des données/performance  TOP1 noyau_uniform  TOP2 noyau_uniform  TOP1 noyau_guassien  TOP2 noyau_guassien\n",
      "TP1                             0.992               1.0                 0.994                1.0\n",
      "TP2                             0.946               0.992               0.948                0.992\n",
      "TP3                             0.714               0.898               0.73                 0.9\n",
      "------------------------------  ------------------  ------------------  -------------------  -------------------\n"
     ]
    }
   ],
   "source": [
    "table = [['Source des données/performance', 'TOP1 noyau_uniform', 'TOP2 noyau_uniform','TOP1 noyau_guassien','TOP2 noyau_guassien'], \n",
    "         ['TP1', '0.992', '1.0',' 0.994','1.0'], \n",
    "         ['TP2', '0.946', '0.992','0.948','0.992'], \n",
    "         ['TP3', '0.714', '0.898','0.73','0.9']]\n",
    "print(tabulate(table))"
   ]
  },
  {
   "cell_type": "markdown",
   "id": "417136eb",
   "metadata": {},
   "source": [
    "On remarque que les résultats obtenus avec le noyau gaussien sont meilleur par rapport au résultat obtenus par le noyau uniform , donc la distribution des données sont sous forme plus gaussienne que uniform"
   ]
  },
  {
   "cell_type": "code",
   "execution_count": null,
   "id": "ee3853b7",
   "metadata": {},
   "outputs": [],
   "source": []
  },
  {
   "cell_type": "markdown",
   "id": "e03f62c2",
   "metadata": {},
   "source": [
    "### 4-Cross validation"
   ]
  },
  {
   "cell_type": "markdown",
   "id": "a4358ce2",
   "metadata": {},
   "source": [
    "Pour optimiser la valeur de h , on va utiliser uniquement les données d'apprentissage car les données de test sont déstinés uniquement pour le test , et on a pas le droit d'ajuster notre parametre h en les utilisant . Comme ça , on aura un modéle qui est adabté au probleme et non au jeu de données."
   ]
  },
  {
   "cell_type": "markdown",
   "id": "5e7498eb",
   "metadata": {},
   "source": [
    "k=5 ,et à chaque fois on aura 20% des données comme partie test , et 80% comme partie entrainement"
   ]
  },
  {
   "cell_type": "code",
   "execution_count": 210,
   "id": "b69f4a88",
   "metadata": {},
   "outputs": [],
   "source": [
    "def cross_validation(train):\n",
    "    #On divise en premier temps le jeu de donnée en 5 classes :\n",
    "    c1 = train[0:100]  \n",
    "    c2 = train[100:200]\n",
    "    c3 = train[200:300]\n",
    "    c4 = train[300:400]\n",
    "    c5= train[400:500]\n",
    "    train1= pd.concat([c1.iloc[:80],c2.iloc[:80],c3.iloc[:80],c4.iloc[:80],c5.iloc[:80]],ignore_index=True )\n",
    "    test1 = pd.concat([c1.iloc[80:100],c2.iloc[80:100],c3.iloc[80:100],c4.iloc[80:100],c5.iloc[80:100]],ignore_index=True )\n",
    "    \n",
    "    train2= pd.concat([c1.iloc[20:],c2.iloc[20:],c3.iloc[20:],c4.iloc[20:],c5.iloc[20:]],ignore_index=True )\n",
    "    test2 = pd.concat([c1.iloc[:20],c2.iloc[:20],c3.iloc[:20],c4.iloc[:20],c5.iloc[:20]],ignore_index=True )\n",
    "    \n",
    "    train3= pd.concat([pd.concat([c1.iloc[:20],c1.iloc[40:]]),pd.concat([c2.iloc[:20],c2.iloc[40:]]),pd.concat([c3.iloc[:20],c3.iloc[40:]]),pd.concat([c4.iloc[:20],c4.iloc[40:]]),pd.concat([c5.iloc[:20],c5.iloc[40:]])],ignore_index=True )\n",
    "    test3 = pd.concat([c1.iloc[20:40],c2.iloc[20:40],c3.iloc[20:40],c4.iloc[20:40],c5.iloc[20:40]],ignore_index=True )\n",
    "\n",
    "    train4= pd.concat([pd.concat([c1.iloc[:40],c1.iloc[60:]]),pd.concat([c2.iloc[:40],c2.iloc[60:]]),pd.concat([c3.iloc[:40],c3.iloc[60:]]),pd.concat([c4.iloc[:40],c4.iloc[60:]]),pd.concat([c5.iloc[:40],c5.iloc[60:]])],ignore_index=True )\n",
    "    test4 = pd.concat([c1.iloc[40:60],c2.iloc[40:60],c3.iloc[40:60],c4.iloc[40:60],c5.iloc[40:60]],ignore_index=True )\n",
    "    \n",
    "    train5= pd.concat([pd.concat([c1.iloc[:60],c1.iloc[80:]]),pd.concat([c2.iloc[:60],c2.iloc[80:]]),pd.concat([c3.iloc[:60],c3.iloc[80:]]),pd.concat([c4.iloc[:60],c4.iloc[80:]]),pd.concat([c5.iloc[:60],c5.iloc[80:]])],ignore_index=True )\n",
    "    test5 = pd.concat([c1.iloc[60:80],c2.iloc[60:80],c3.iloc[60:80],c4.iloc[60:80],c5.iloc[60:80]],ignore_index=True )\n",
    "    \n",
    "    return train1,test1,train2,test2,train3,test3,train4,test4,train5,test5\n",
    "    "
   ]
  },
  {
   "cell_type": "markdown",
   "id": "ef3cc3e6",
   "metadata": {},
   "source": [
    "fonction d'évaluation des performances"
   ]
  },
  {
   "cell_type": "code",
   "execution_count": 173,
   "id": "109717cf",
   "metadata": {},
   "outputs": [],
   "source": [
    "def evaluation(noyau,h,train,test):\n",
    "    Parzen=apply_noyau(noyau,h,train,test)\n",
    "    NOYAU=density(Parzen,train,test)\n",
    "    indice_deux_proches=get_closest(NOYAU,test)\n",
    "    Matrix,top1,top2=confusion_matrix(test.Classe,indice_deux_proches+1)\n",
    "    return Matrix,top1,top2"
   ]
  },
  {
   "cell_type": "markdown",
   "id": "452984b6",
   "metadata": {},
   "source": [
    "On va chercher le meilleur h parmi les 5 suivantes {1/2,1,3/2,2,5/2}"
   ]
  },
  {
   "cell_type": "raw",
   "id": "da34ad5a",
   "metadata": {},
   "source": []
  },
  {
   "cell_type": "markdown",
   "id": "4c4e3011",
   "metadata": {},
   "source": [
    "### En utilisant les données de tp1"
   ]
  },
  {
   "cell_type": "code",
   "execution_count": 212,
   "id": "88031a72",
   "metadata": {},
   "outputs": [],
   "source": [
    "train1,test1,train2,test2,train3,test3,train4,test4,train5,test5=cross_validation(data_train)"
   ]
  },
  {
   "cell_type": "code",
   "execution_count": null,
   "id": "31114e89",
   "metadata": {},
   "outputs": [],
   "source": []
  },
  {
   "cell_type": "markdown",
   "id": "98fe6f8e",
   "metadata": {},
   "source": [
    "### Noyau uniform"
   ]
  },
  {
   "cell_type": "markdown",
   "id": "67e7431e",
   "metadata": {},
   "source": [
    "### h=1/2"
   ]
  },
  {
   "cell_type": "code",
   "execution_count": 175,
   "id": "06a1ef4f",
   "metadata": {},
   "outputs": [],
   "source": [
    "h=1/2"
   ]
  },
  {
   "cell_type": "code",
   "execution_count": 218,
   "id": "60bac7b2",
   "metadata": {},
   "outputs": [
    {
     "data": {
      "text/plain": [
       "(array([[20.,  0.,  0.,  0.,  0.],\n",
       "        [ 0., 20.,  0.,  0.,  0.],\n",
       "        [ 0.,  0., 20.,  0.,  0.],\n",
       "        [ 0.,  0.,  0., 20.,  0.],\n",
       "        [ 0.,  0.,  0.,  0., 20.]]),\n",
       " 1.0,\n",
       " 1.0)"
      ]
     },
     "execution_count": 218,
     "metadata": {},
     "output_type": "execute_result"
    }
   ],
   "source": [
    "Matrix,top1,top2=evaluation(noyau_uniform,h,train1,test1)\n",
    "Matrix,top1,top2"
   ]
  },
  {
   "cell_type": "code",
   "execution_count": 214,
   "id": "9464fcbf",
   "metadata": {},
   "outputs": [
    {
     "data": {
      "text/plain": [
       "(array([[20.,  0.,  0.,  0.,  0.],\n",
       "        [ 0., 20.,  0.,  0.,  0.],\n",
       "        [ 0.,  0., 20.,  0.,  0.],\n",
       "        [ 0.,  0.,  0., 19.,  1.],\n",
       "        [ 0.,  0.,  0.,  0., 20.]]),\n",
       " 0.99,\n",
       " 1.0)"
      ]
     },
     "execution_count": 214,
     "metadata": {},
     "output_type": "execute_result"
    }
   ],
   "source": [
    "Matrix,top1,top2=evaluation(noyau_uniform,h,train2,test2)\n",
    "Matrix,top1,top2"
   ]
  },
  {
   "cell_type": "code",
   "execution_count": 215,
   "id": "932f23ab",
   "metadata": {},
   "outputs": [
    {
     "data": {
      "text/plain": [
       "(array([[20.,  0.,  0.,  0.,  0.],\n",
       "        [ 0., 20.,  0.,  0.,  0.],\n",
       "        [ 0.,  0., 19.,  0.,  1.],\n",
       "        [ 0.,  0.,  0., 20.,  0.],\n",
       "        [ 0.,  0.,  0.,  0., 20.]]),\n",
       " 0.99,\n",
       " 1.0)"
      ]
     },
     "execution_count": 215,
     "metadata": {},
     "output_type": "execute_result"
    }
   ],
   "source": [
    "Matrix,top1,top2=evaluation(noyau_uniform,h,train3,test3)\n",
    "Matrix,top1,top2"
   ]
  },
  {
   "cell_type": "code",
   "execution_count": 216,
   "id": "d448db52",
   "metadata": {},
   "outputs": [
    {
     "data": {
      "text/plain": [
       "(array([[19.,  1.,  0.,  0.,  0.],\n",
       "        [ 0., 20.,  0.,  0.,  0.],\n",
       "        [ 0.,  0., 20.,  0.,  0.],\n",
       "        [ 0.,  0.,  0., 20.,  0.],\n",
       "        [ 0.,  0.,  0.,  0., 20.]]),\n",
       " 0.99,\n",
       " 1.0)"
      ]
     },
     "execution_count": 216,
     "metadata": {},
     "output_type": "execute_result"
    }
   ],
   "source": [
    "Matrix,top1,top2=evaluation(noyau_uniform,h,train4,test4)\n",
    "Matrix,top1,top2"
   ]
  },
  {
   "cell_type": "code",
   "execution_count": 217,
   "id": "29ab498c",
   "metadata": {},
   "outputs": [
    {
     "data": {
      "text/plain": [
       "(array([[19.,  0.,  0.,  0.,  1.],\n",
       "        [ 0., 20.,  0.,  0.,  0.],\n",
       "        [ 0.,  0., 20.,  0.,  0.],\n",
       "        [ 0.,  0.,  0., 20.,  0.],\n",
       "        [ 0.,  0.,  0.,  0., 20.]]),\n",
       " 0.99,\n",
       " 1.0)"
      ]
     },
     "execution_count": 217,
     "metadata": {},
     "output_type": "execute_result"
    }
   ],
   "source": [
    "Matrix,top1,top2=evaluation(noyau_uniform,h,train5,test5)\n",
    "Matrix,top1,top2"
   ]
  },
  {
   "cell_type": "markdown",
   "id": "8a5195e4",
   "metadata": {},
   "source": [
    "### h=1"
   ]
  },
  {
   "cell_type": "code",
   "execution_count": 219,
   "id": "62192b84",
   "metadata": {},
   "outputs": [],
   "source": [
    "h=1"
   ]
  },
  {
   "cell_type": "code",
   "execution_count": 220,
   "id": "90d8b293",
   "metadata": {},
   "outputs": [
    {
     "data": {
      "text/plain": [
       "(array([[20.,  0.,  0.,  0.,  0.],\n",
       "        [ 0., 20.,  0.,  0.,  0.],\n",
       "        [ 0.,  0., 20.,  0.,  0.],\n",
       "        [ 1.,  0.,  0., 19.,  0.],\n",
       "        [ 0.,  0.,  0.,  0., 20.]]),\n",
       " 0.99,\n",
       " 0.99)"
      ]
     },
     "execution_count": 220,
     "metadata": {},
     "output_type": "execute_result"
    }
   ],
   "source": [
    "Matrix,top1,top2=evaluation(noyau_uniform,h,train1,test1)\n",
    "Matrix,top1,top2"
   ]
  },
  {
   "cell_type": "code",
   "execution_count": 221,
   "id": "72ebb990",
   "metadata": {},
   "outputs": [
    {
     "data": {
      "text/plain": [
       "(array([[20.,  0.,  0.,  0.,  0.],\n",
       "        [ 1., 19.,  0.,  0.,  0.],\n",
       "        [ 0.,  0., 20.,  0.,  0.],\n",
       "        [ 1.,  0.,  0., 19.,  0.],\n",
       "        [ 0.,  1.,  0.,  0., 19.]]),\n",
       " 0.97,\n",
       " 0.99)"
      ]
     },
     "execution_count": 221,
     "metadata": {},
     "output_type": "execute_result"
    }
   ],
   "source": [
    "Matrix,top1,top2=evaluation(noyau_uniform,h,train2,test2)\n",
    "Matrix,top1,top2"
   ]
  },
  {
   "cell_type": "code",
   "execution_count": 223,
   "id": "870e1c5c",
   "metadata": {},
   "outputs": [
    {
     "data": {
      "text/plain": [
       "(array([[20.,  0.,  0.,  0.,  0.],\n",
       "        [ 0., 20.,  0.,  0.,  0.],\n",
       "        [ 1.,  0., 19.,  0.,  0.],\n",
       "        [ 0.,  0.,  0., 20.,  0.],\n",
       "        [ 0.,  0.,  0.,  0., 20.]]),\n",
       " 0.99,\n",
       " 0.99)"
      ]
     },
     "execution_count": 223,
     "metadata": {},
     "output_type": "execute_result"
    }
   ],
   "source": [
    "Matrix,top1,top2=evaluation(noyau_uniform,h,train3,test3)\n",
    "Matrix,top1,top2"
   ]
  },
  {
   "cell_type": "code",
   "execution_count": 224,
   "id": "8e87f322",
   "metadata": {},
   "outputs": [
    {
     "data": {
      "text/plain": [
       "(array([[20.,  0.,  0.,  0.,  0.],\n",
       "        [ 2., 18.,  0.,  0.,  0.],\n",
       "        [ 1.,  0., 19.,  0.,  0.],\n",
       "        [ 1.,  0.,  0., 19.,  0.],\n",
       "        [ 0.,  0.,  0.,  0., 20.]]),\n",
       " 0.96,\n",
       " 0.98)"
      ]
     },
     "execution_count": 224,
     "metadata": {},
     "output_type": "execute_result"
    }
   ],
   "source": [
    "Matrix,top1,top2=evaluation(noyau_uniform,h,train4,test4)\n",
    "Matrix,top1,top2"
   ]
  },
  {
   "cell_type": "code",
   "execution_count": 225,
   "id": "7d613993",
   "metadata": {},
   "outputs": [
    {
     "data": {
      "text/plain": [
       "(array([[20.,  0.,  0.,  0.,  0.],\n",
       "        [ 0., 20.,  0.,  0.,  0.],\n",
       "        [ 0.,  0., 20.,  0.,  0.],\n",
       "        [ 1.,  0.,  0., 19.,  0.],\n",
       "        [ 0.,  0.,  0.,  0., 20.]]),\n",
       " 0.99,\n",
       " 0.99)"
      ]
     },
     "execution_count": 225,
     "metadata": {},
     "output_type": "execute_result"
    }
   ],
   "source": [
    "Matrix,top1,top2=evaluation(noyau_uniform,h,train5,test5)\n",
    "Matrix,top1,top2"
   ]
  },
  {
   "cell_type": "markdown",
   "id": "9a72b81f",
   "metadata": {},
   "source": [
    "### h=3/2"
   ]
  },
  {
   "cell_type": "code",
   "execution_count": 193,
   "id": "bbe7ae64",
   "metadata": {},
   "outputs": [],
   "source": [
    "h=3/2"
   ]
  },
  {
   "cell_type": "code",
   "execution_count": 195,
   "id": "38fa1153",
   "metadata": {},
   "outputs": [
    {
     "data": {
      "text/plain": [
       "(array([[20.,  0.,  0.,  0.,  0.],\n",
       "        [ 0., 20.,  0.,  0.,  0.],\n",
       "        [ 0.,  0., 20.,  0.,  0.],\n",
       "        [ 0.,  0.,  0., 20.,  0.],\n",
       "        [ 0.,  0.,  0.,  0., 20.]]),\n",
       " 1.0,\n",
       " 1.0)"
      ]
     },
     "execution_count": 195,
     "metadata": {},
     "output_type": "execute_result"
    }
   ],
   "source": [
    "Matrix,top1,top2=evaluation(noyau_uniform,h,train1,test1)\n",
    "Matrix,top1,top2"
   ]
  },
  {
   "cell_type": "code",
   "execution_count": 226,
   "id": "3a1005fb",
   "metadata": {},
   "outputs": [
    {
     "data": {
      "text/plain": [
       "(array([[20.,  0.,  0.,  0.,  0.],\n",
       "        [ 1., 19.,  0.,  0.,  0.],\n",
       "        [ 0.,  0., 20.,  0.,  0.],\n",
       "        [ 1.,  0.,  0., 19.,  0.],\n",
       "        [ 0.,  1.,  0.,  0., 19.]]),\n",
       " 0.97,\n",
       " 0.99)"
      ]
     },
     "execution_count": 226,
     "metadata": {},
     "output_type": "execute_result"
    }
   ],
   "source": [
    "Matrix,top1,top2=evaluation(noyau_uniform,h,train2,test2)\n",
    "Matrix,top1,top2"
   ]
  },
  {
   "cell_type": "code",
   "execution_count": 227,
   "id": "e9c8f50b",
   "metadata": {},
   "outputs": [
    {
     "data": {
      "text/plain": [
       "(array([[20.,  0.,  0.,  0.,  0.],\n",
       "        [ 0., 20.,  0.,  0.,  0.],\n",
       "        [ 1.,  0., 19.,  0.,  0.],\n",
       "        [ 0.,  0.,  0., 20.,  0.],\n",
       "        [ 0.,  0.,  0.,  0., 20.]]),\n",
       " 0.99,\n",
       " 0.99)"
      ]
     },
     "execution_count": 227,
     "metadata": {},
     "output_type": "execute_result"
    }
   ],
   "source": [
    "Matrix,top1,top2=evaluation(noyau_uniform,h,train3,test3)\n",
    "Matrix,top1,top2"
   ]
  },
  {
   "cell_type": "code",
   "execution_count": 228,
   "id": "107e6a4b",
   "metadata": {},
   "outputs": [
    {
     "data": {
      "text/plain": [
       "(array([[20.,  0.,  0.,  0.,  0.],\n",
       "        [ 2., 18.,  0.,  0.,  0.],\n",
       "        [ 1.,  0., 19.,  0.,  0.],\n",
       "        [ 1.,  0.,  0., 19.,  0.],\n",
       "        [ 0.,  0.,  0.,  0., 20.]]),\n",
       " 0.96,\n",
       " 0.98)"
      ]
     },
     "execution_count": 228,
     "metadata": {},
     "output_type": "execute_result"
    }
   ],
   "source": [
    "Matrix,top1,top2=evaluation(noyau_uniform,h,train4,test4)\n",
    "Matrix,top1,top2"
   ]
  },
  {
   "cell_type": "code",
   "execution_count": 229,
   "id": "7bb71720",
   "metadata": {},
   "outputs": [
    {
     "data": {
      "text/plain": [
       "(array([[20.,  0.,  0.,  0.,  0.],\n",
       "        [ 0., 20.,  0.,  0.,  0.],\n",
       "        [ 0.,  0., 20.,  0.,  0.],\n",
       "        [ 1.,  0.,  0., 19.,  0.],\n",
       "        [ 0.,  0.,  0.,  0., 20.]]),\n",
       " 0.99,\n",
       " 0.99)"
      ]
     },
     "execution_count": 229,
     "metadata": {},
     "output_type": "execute_result"
    }
   ],
   "source": [
    "Matrix,top1,top2=evaluation(noyau_uniform,h,train5,test5)\n",
    "Matrix,top1,top2"
   ]
  },
  {
   "cell_type": "markdown",
   "id": "ae4f06fd",
   "metadata": {},
   "source": [
    "### h=2"
   ]
  },
  {
   "cell_type": "code",
   "execution_count": 230,
   "id": "70b8d283",
   "metadata": {},
   "outputs": [],
   "source": [
    "h=2"
   ]
  },
  {
   "cell_type": "code",
   "execution_count": 231,
   "id": "e7de82e6",
   "metadata": {},
   "outputs": [
    {
     "data": {
      "text/plain": [
       "(array([[20.,  0.,  0.,  0.,  0.],\n",
       "        [ 0., 20.,  0.,  0.,  0.],\n",
       "        [ 0.,  0., 20.,  0.,  0.],\n",
       "        [ 0.,  0.,  0., 20.,  0.],\n",
       "        [ 0.,  0.,  0.,  0., 20.]]),\n",
       " 1.0,\n",
       " 1.0)"
      ]
     },
     "execution_count": 231,
     "metadata": {},
     "output_type": "execute_result"
    }
   ],
   "source": [
    "Matrix,top1,top2=evaluation(noyau_uniform,h,train1,test1)\n",
    "Matrix,top1,top2"
   ]
  },
  {
   "cell_type": "code",
   "execution_count": 232,
   "id": "2834f07c",
   "metadata": {},
   "outputs": [
    {
     "data": {
      "text/plain": [
       "(array([[20.,  0.,  0.,  0.,  0.],\n",
       "        [ 0., 20.,  0.,  0.,  0.],\n",
       "        [ 0.,  0., 20.,  0.,  0.],\n",
       "        [ 0.,  0.,  0., 19.,  1.],\n",
       "        [ 0.,  0.,  0.,  0., 20.]]),\n",
       " 0.99,\n",
       " 1.0)"
      ]
     },
     "execution_count": 232,
     "metadata": {},
     "output_type": "execute_result"
    }
   ],
   "source": [
    "Matrix,top1,top2=evaluation(noyau_uniform,h,train2,test2)\n",
    "Matrix,top1,top2"
   ]
  },
  {
   "cell_type": "code",
   "execution_count": 233,
   "id": "9d30a601",
   "metadata": {},
   "outputs": [
    {
     "data": {
      "text/plain": [
       "(array([[20.,  0.,  0.,  0.,  0.],\n",
       "        [ 0., 20.,  0.,  0.,  0.],\n",
       "        [ 0.,  0., 20.,  0.,  0.],\n",
       "        [ 0.,  0.,  0., 20.,  0.],\n",
       "        [ 0.,  0.,  0.,  0., 20.]]),\n",
       " 1.0,\n",
       " 1.0)"
      ]
     },
     "execution_count": 233,
     "metadata": {},
     "output_type": "execute_result"
    }
   ],
   "source": [
    "Matrix,top1,top2=evaluation(noyau_uniform,h,train3,test3)\n",
    "Matrix,top1,top2"
   ]
  },
  {
   "cell_type": "code",
   "execution_count": 234,
   "id": "a3af61cc",
   "metadata": {},
   "outputs": [
    {
     "data": {
      "text/plain": [
       "(array([[19.,  1.,  0.,  0.,  0.],\n",
       "        [ 0., 20.,  0.,  0.,  0.],\n",
       "        [ 0.,  0., 20.,  0.,  0.],\n",
       "        [ 0.,  0.,  0., 20.,  0.],\n",
       "        [ 0.,  0.,  0.,  0., 20.]]),\n",
       " 0.99,\n",
       " 1.0)"
      ]
     },
     "execution_count": 234,
     "metadata": {},
     "output_type": "execute_result"
    }
   ],
   "source": [
    "Matrix,top1,top2=evaluation(noyau_uniform,h,train4,test4)\n",
    "Matrix,top1,top2"
   ]
  },
  {
   "cell_type": "code",
   "execution_count": 235,
   "id": "9ea70c50",
   "metadata": {},
   "outputs": [
    {
     "data": {
      "text/plain": [
       "(array([[20.,  0.,  0.,  0.,  0.],\n",
       "        [ 0., 20.,  0.,  0.,  0.],\n",
       "        [ 0.,  0., 20.,  0.,  0.],\n",
       "        [ 0.,  0.,  0., 20.,  0.],\n",
       "        [ 0.,  1.,  0.,  0., 19.]]),\n",
       " 0.99,\n",
       " 1.0)"
      ]
     },
     "execution_count": 235,
     "metadata": {},
     "output_type": "execute_result"
    }
   ],
   "source": [
    "Matrix,top1,top2=evaluation(noyau_uniform,h,train5,test5)\n",
    "Matrix,top1,top2"
   ]
  },
  {
   "cell_type": "markdown",
   "id": "26d0a08f",
   "metadata": {},
   "source": [
    "### h=5/2"
   ]
  },
  {
   "cell_type": "code",
   "execution_count": 236,
   "id": "4d2f16ee",
   "metadata": {},
   "outputs": [],
   "source": [
    "h=5/2"
   ]
  },
  {
   "cell_type": "code",
   "execution_count": 202,
   "id": "67905be3",
   "metadata": {},
   "outputs": [
    {
     "data": {
      "text/plain": [
       "(array([[20.,  0.,  0.,  0.,  0.],\n",
       "        [ 0., 20.,  0.,  0.,  0.],\n",
       "        [ 0.,  0., 20.,  0.,  0.],\n",
       "        [ 0.,  0.,  0., 20.,  0.],\n",
       "        [ 0.,  0.,  0.,  0., 20.]]),\n",
       " 1.0,\n",
       " 1.0)"
      ]
     },
     "execution_count": 202,
     "metadata": {},
     "output_type": "execute_result"
    }
   ],
   "source": [
    "Matrix,top1,top2=evaluation(noyau_uniform,h,train1,test1)\n",
    "Matrix,top1,top2"
   ]
  },
  {
   "cell_type": "code",
   "execution_count": 237,
   "id": "0857fb3f",
   "metadata": {},
   "outputs": [
    {
     "data": {
      "text/plain": [
       "(array([[20.,  0.,  0.,  0.,  0.],\n",
       "        [ 0., 20.,  0.,  0.,  0.],\n",
       "        [ 0.,  0., 20.,  0.,  0.],\n",
       "        [ 0.,  0.,  0., 19.,  1.],\n",
       "        [ 0.,  0.,  0.,  0., 20.]]),\n",
       " 0.99,\n",
       " 1.0)"
      ]
     },
     "execution_count": 237,
     "metadata": {},
     "output_type": "execute_result"
    }
   ],
   "source": [
    "Matrix,top1,top2=evaluation(noyau_uniform,h,train2,test2)\n",
    "Matrix,top1,top2"
   ]
  },
  {
   "cell_type": "code",
   "execution_count": 238,
   "id": "a10906cd",
   "metadata": {},
   "outputs": [
    {
     "data": {
      "text/plain": [
       "(array([[20.,  0.,  0.,  0.,  0.],\n",
       "        [ 0., 20.,  0.,  0.,  0.],\n",
       "        [ 0.,  0., 19.,  0.,  1.],\n",
       "        [ 0.,  0.,  0., 20.,  0.],\n",
       "        [ 0.,  0.,  0.,  0., 20.]]),\n",
       " 0.99,\n",
       " 1.0)"
      ]
     },
     "execution_count": 238,
     "metadata": {},
     "output_type": "execute_result"
    }
   ],
   "source": [
    "Matrix,top1,top2=evaluation(noyau_uniform,h,train3,test3)\n",
    "Matrix,top1,top2"
   ]
  },
  {
   "cell_type": "code",
   "execution_count": 239,
   "id": "dde794f5",
   "metadata": {},
   "outputs": [
    {
     "data": {
      "text/plain": [
       "(array([[19.,  1.,  0.,  0.,  0.],\n",
       "        [ 0., 20.,  0.,  0.,  0.],\n",
       "        [ 0.,  0., 20.,  0.,  0.],\n",
       "        [ 0.,  0.,  0., 20.,  0.],\n",
       "        [ 0.,  0.,  0.,  0., 20.]]),\n",
       " 0.99,\n",
       " 1.0)"
      ]
     },
     "execution_count": 239,
     "metadata": {},
     "output_type": "execute_result"
    }
   ],
   "source": [
    "Matrix,top1,top2=evaluation(noyau_uniform,h,train4,test4)\n",
    "Matrix,top1,top2"
   ]
  },
  {
   "cell_type": "code",
   "execution_count": 240,
   "id": "305b9734",
   "metadata": {},
   "outputs": [
    {
     "data": {
      "text/plain": [
       "(array([[19.,  0.,  0.,  0.,  1.],\n",
       "        [ 0., 20.,  0.,  0.,  0.],\n",
       "        [ 0.,  0., 20.,  0.,  0.],\n",
       "        [ 0.,  0.,  0., 20.,  0.],\n",
       "        [ 0.,  0.,  0.,  0., 20.]]),\n",
       " 0.99,\n",
       " 1.0)"
      ]
     },
     "execution_count": 240,
     "metadata": {},
     "output_type": "execute_result"
    }
   ],
   "source": [
    "Matrix,top1,top2=evaluation(noyau_uniform,h,train5,test5)\n",
    "Matrix,top1,top2"
   ]
  },
  {
   "cell_type": "markdown",
   "id": "0e4beeb9",
   "metadata": {},
   "source": [
    "### Conclusion pour le noyau uniform"
   ]
  },
  {
   "cell_type": "markdown",
   "id": "cc334b43",
   "metadata": {},
   "source": [
    "Pour le noyau uniform , et comme le montre les résultats ci dessus , la meilleur valeur de h est 2."
   ]
  },
  {
   "cell_type": "markdown",
   "id": "eb2cee14",
   "metadata": {},
   "source": [
    "Avec h=2 , on a eu 100% comme taux de classification  en utilisant le top2 , et 99.94%  en utilisant le top1"
   ]
  },
  {
   "cell_type": "code",
   "execution_count": null,
   "id": "0b6380cb",
   "metadata": {},
   "outputs": [],
   "source": []
  },
  {
   "cell_type": "markdown",
   "id": "e9322c27",
   "metadata": {},
   "source": [
    "### Noyau gaussien"
   ]
  },
  {
   "cell_type": "markdown",
   "id": "5be6ea37",
   "metadata": {},
   "source": [
    "### h=1/2"
   ]
  },
  {
   "cell_type": "code",
   "execution_count": null,
   "id": "c39bd2c1",
   "metadata": {},
   "outputs": [],
   "source": [
    "h=1/2"
   ]
  },
  {
   "cell_type": "code",
   "execution_count": 242,
   "id": "92137b5b",
   "metadata": {},
   "outputs": [
    {
     "data": {
      "text/plain": [
       "(1.0, 1.0)"
      ]
     },
     "execution_count": 242,
     "metadata": {},
     "output_type": "execute_result"
    }
   ],
   "source": [
    "Matrix,top1,top2=evaluation(noyau_gaussien,h,train1,test1)\n",
    "top1,top2"
   ]
  },
  {
   "cell_type": "code",
   "execution_count": 243,
   "id": "5fe37fe2",
   "metadata": {},
   "outputs": [
    {
     "data": {
      "text/plain": [
       "(0.99, 1.0)"
      ]
     },
     "execution_count": 243,
     "metadata": {},
     "output_type": "execute_result"
    }
   ],
   "source": [
    "Matrix,top1,top2=evaluation(noyau_gaussien,h,train2,test2)\n",
    "top1,top2"
   ]
  },
  {
   "cell_type": "code",
   "execution_count": 244,
   "id": "04c2d170",
   "metadata": {},
   "outputs": [
    {
     "data": {
      "text/plain": [
       "(1.0, 1.0)"
      ]
     },
     "execution_count": 244,
     "metadata": {},
     "output_type": "execute_result"
    }
   ],
   "source": [
    "Matrix,top1,top2=evaluation(noyau_gaussien,h,train3,test3)\n",
    "top1,top2"
   ]
  },
  {
   "cell_type": "code",
   "execution_count": 245,
   "id": "ce104116",
   "metadata": {},
   "outputs": [
    {
     "data": {
      "text/plain": [
       "(0.99, 1.0)"
      ]
     },
     "execution_count": 245,
     "metadata": {},
     "output_type": "execute_result"
    }
   ],
   "source": [
    "Matrix,top1,top2=evaluation(noyau_gaussien,h,train4,test4)\n",
    "top1,top2"
   ]
  },
  {
   "cell_type": "code",
   "execution_count": 246,
   "id": "73bbb627",
   "metadata": {},
   "outputs": [
    {
     "data": {
      "text/plain": [
       "(1.0, 1.0)"
      ]
     },
     "execution_count": 246,
     "metadata": {},
     "output_type": "execute_result"
    }
   ],
   "source": [
    "Matrix,top1,top2=evaluation(noyau_gaussien,h,train5,test5)\n",
    "top1,top2"
   ]
  },
  {
   "cell_type": "code",
   "execution_count": null,
   "id": "d9874e66",
   "metadata": {},
   "outputs": [],
   "source": []
  },
  {
   "cell_type": "markdown",
   "id": "1af91bd5",
   "metadata": {},
   "source": [
    "### h=1"
   ]
  },
  {
   "cell_type": "code",
   "execution_count": 251,
   "id": "db8fe31b",
   "metadata": {},
   "outputs": [],
   "source": [
    "h=1"
   ]
  },
  {
   "cell_type": "code",
   "execution_count": 248,
   "id": "4477c75e",
   "metadata": {},
   "outputs": [
    {
     "data": {
      "text/plain": [
       "(0.99, 1.0)"
      ]
     },
     "execution_count": 248,
     "metadata": {},
     "output_type": "execute_result"
    }
   ],
   "source": [
    "Matrix,top1,top2=evaluation(noyau_gaussien,h,train1,test1)\n",
    "top1,top2"
   ]
  },
  {
   "cell_type": "code",
   "execution_count": 249,
   "id": "67fb9747",
   "metadata": {},
   "outputs": [
    {
     "data": {
      "text/plain": [
       "(1.0, 1.0)"
      ]
     },
     "execution_count": 249,
     "metadata": {},
     "output_type": "execute_result"
    }
   ],
   "source": [
    "Matrix,top1,top2=evaluation(noyau_gaussien,h,train2,test2)\n",
    "top1,top2"
   ]
  },
  {
   "cell_type": "code",
   "execution_count": 250,
   "id": "feff262a",
   "metadata": {},
   "outputs": [
    {
     "data": {
      "text/plain": [
       "(1.0, 1.0)"
      ]
     },
     "execution_count": 250,
     "metadata": {},
     "output_type": "execute_result"
    }
   ],
   "source": [
    "Matrix,top1,top2=evaluation(noyau_gaussien,h,train3,test3)\n",
    "top1,top2"
   ]
  },
  {
   "cell_type": "code",
   "execution_count": 252,
   "id": "ae443595",
   "metadata": {},
   "outputs": [
    {
     "data": {
      "text/plain": [
       "(1.0, 1.0)"
      ]
     },
     "execution_count": 252,
     "metadata": {},
     "output_type": "execute_result"
    }
   ],
   "source": [
    "Matrix,top1,top2=evaluation(noyau_gaussien,h,train4,test4)\n",
    "top1,top2"
   ]
  },
  {
   "cell_type": "code",
   "execution_count": 253,
   "id": "50402058",
   "metadata": {},
   "outputs": [
    {
     "data": {
      "text/plain": [
       "(1.0, 1.0)"
      ]
     },
     "execution_count": 253,
     "metadata": {},
     "output_type": "execute_result"
    }
   ],
   "source": [
    "Matrix,top1,top2=evaluation(noyau_gaussien,h,train5,test5)\n",
    "top1,top2"
   ]
  },
  {
   "cell_type": "markdown",
   "id": "5d50f7e5",
   "metadata": {},
   "source": [
    "### h=2"
   ]
  },
  {
   "cell_type": "code",
   "execution_count": 254,
   "id": "f04ff6ac",
   "metadata": {},
   "outputs": [],
   "source": [
    "h=2"
   ]
  },
  {
   "cell_type": "code",
   "execution_count": 255,
   "id": "cb5ab17a",
   "metadata": {},
   "outputs": [
    {
     "data": {
      "text/plain": [
       "(1.0, 1.0)"
      ]
     },
     "execution_count": 255,
     "metadata": {},
     "output_type": "execute_result"
    }
   ],
   "source": [
    "Matrix,top1,top2=evaluation(noyau_gaussien,h,train1,test1)\n",
    "top1,top2"
   ]
  },
  {
   "cell_type": "code",
   "execution_count": 256,
   "id": "d6fe2705",
   "metadata": {},
   "outputs": [
    {
     "data": {
      "text/plain": [
       "(1.0, 1.0)"
      ]
     },
     "execution_count": 256,
     "metadata": {},
     "output_type": "execute_result"
    }
   ],
   "source": [
    "Matrix,top1,top2=evaluation(noyau_gaussien,h,train2,test2)\n",
    "top1,top2"
   ]
  },
  {
   "cell_type": "code",
   "execution_count": 257,
   "id": "dab840ab",
   "metadata": {},
   "outputs": [
    {
     "data": {
      "text/plain": [
       "(1.0, 1.0)"
      ]
     },
     "execution_count": 257,
     "metadata": {},
     "output_type": "execute_result"
    }
   ],
   "source": [
    "Matrix,top1,top2=evaluation(noyau_gaussien,h,train3,test3)\n",
    "top1,top2"
   ]
  },
  {
   "cell_type": "code",
   "execution_count": 258,
   "id": "2380d2a0",
   "metadata": {},
   "outputs": [
    {
     "data": {
      "text/plain": [
       "(0.99, 1.0)"
      ]
     },
     "execution_count": 258,
     "metadata": {},
     "output_type": "execute_result"
    }
   ],
   "source": [
    "Matrix,top1,top2=evaluation(noyau_gaussien,h,train4,test4)\n",
    "top1,top2"
   ]
  },
  {
   "cell_type": "code",
   "execution_count": 259,
   "id": "e8ae0dfc",
   "metadata": {},
   "outputs": [
    {
     "data": {
      "text/plain": [
       "(1.0, 1.0)"
      ]
     },
     "execution_count": 259,
     "metadata": {},
     "output_type": "execute_result"
    }
   ],
   "source": [
    "Matrix,top1,top2=evaluation(noyau_gaussien,h,train5,test5)\n",
    "top1,top2"
   ]
  },
  {
   "cell_type": "code",
   "execution_count": null,
   "id": "bb3e875b",
   "metadata": {},
   "outputs": [],
   "source": []
  },
  {
   "cell_type": "markdown",
   "id": "0f8a74f2",
   "metadata": {},
   "source": [
    "### h=5/2"
   ]
  },
  {
   "cell_type": "code",
   "execution_count": 260,
   "id": "64b3f174",
   "metadata": {},
   "outputs": [],
   "source": [
    "h=5/2"
   ]
  },
  {
   "cell_type": "code",
   "execution_count": 261,
   "id": "6d7c23e9",
   "metadata": {},
   "outputs": [
    {
     "data": {
      "text/plain": [
       "(1.0, 1.0)"
      ]
     },
     "execution_count": 261,
     "metadata": {},
     "output_type": "execute_result"
    }
   ],
   "source": [
    "Matrix,top1,top2=evaluation(noyau_gaussien,h,train1,test1)\n",
    "top1,top2"
   ]
  },
  {
   "cell_type": "code",
   "execution_count": 262,
   "id": "5b9eb8f4",
   "metadata": {},
   "outputs": [
    {
     "data": {
      "text/plain": [
       "(0.99, 1.0)"
      ]
     },
     "execution_count": 262,
     "metadata": {},
     "output_type": "execute_result"
    }
   ],
   "source": [
    "Matrix,top1,top2=evaluation(noyau_gaussien,h,train4,test4)\n",
    "top1,top2"
   ]
  },
  {
   "cell_type": "code",
   "execution_count": null,
   "id": "e4b4ee10",
   "metadata": {},
   "outputs": [],
   "source": [
    "Matrix,top1,top2=evaluation(noyau_gaussien,h,train5,test5)\n",
    "top1,top2"
   ]
  },
  {
   "cell_type": "markdown",
   "id": "99dcccac",
   "metadata": {},
   "source": [
    "### Conclusion pour le noyau gaussien"
   ]
  },
  {
   "cell_type": "markdown",
   "id": "b07fe0b8",
   "metadata": {},
   "source": [
    "On remarque qu'avec le noyau gaussien , pour different valeur de h , on a eu 100% comme taux de classification en utilisant top2 , et 99.98 % en utilisant top1 . Ca justifie aussi que nos données en plus une forme gaussien qu'uniform"
   ]
  },
  {
   "cell_type": "code",
   "execution_count": null,
   "id": "28ff0c13",
   "metadata": {},
   "outputs": [],
   "source": []
  }
 ],
 "metadata": {
  "kernelspec": {
   "display_name": "Python 3 (ipykernel)",
   "language": "python",
   "name": "python3"
  },
  "language_info": {
   "codemirror_mode": {
    "name": "ipython",
    "version": 3
   },
   "file_extension": ".py",
   "mimetype": "text/x-python",
   "name": "python",
   "nbconvert_exporter": "python",
   "pygments_lexer": "ipython3",
   "version": "3.9.12"
  }
 },
 "nbformat": 4,
 "nbformat_minor": 5
}
