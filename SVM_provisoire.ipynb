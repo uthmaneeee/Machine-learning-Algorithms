{
 "cells": [
  {
   "cell_type": "markdown",
   "id": "e23bd452",
   "metadata": {},
   "source": [
    "### Othmane Nabgouri "
   ]
  },
  {
   "cell_type": "code",
   "execution_count": 46,
   "id": "40a2d2f2",
   "metadata": {},
   "outputs": [],
   "source": [
    "import numpy as np\n",
    "import pandas as pd \n",
    "import matplotlib.pyplot as plt\n",
    "from sklearn import svm\n",
    "import scipy\n",
    "from sklearn import model_selection \n",
    "from sklearn.utils.fixes import loguniform\n"
   ]
  },
  {
   "cell_type": "markdown",
   "id": "69a7a4bc",
   "metadata": {},
   "source": [
    "### 1-Jeu de données "
   ]
  },
  {
   "cell_type": "code",
   "execution_count": 24,
   "id": "a5965a1e",
   "metadata": {},
   "outputs": [],
   "source": [
    "header_list = [\"Classe\", \"X\", \"Y\"]\n",
    "data_train=pd.read_csv('data_tp1_app.txt', sep = ' ' ,names=header_list)\n",
    "data_test=pd.read_csv('data_tp1_dec.txt', sep = ' ' ,names=header_list)\n",
    "data_train_2=pd.read_csv('data_tp2_app.txt', sep = ' ' ,names=header_list)\n",
    "data_test_2=pd.read_csv('data_tp2_dec.txt', sep = ' ' ,names=header_list)\n"
   ]
  },
  {
   "cell_type": "markdown",
   "id": "e0fd1b6b",
   "metadata": {},
   "source": [
    "### 2-Test de svm.LinearSVC"
   ]
  },
  {
   "cell_type": "code",
   "execution_count": 25,
   "id": "28eadf38",
   "metadata": {},
   "outputs": [
    {
     "name": "stderr",
     "output_type": "stream",
     "text": [
      "C:\\ProgramData\\Anaconda3\\lib\\site-packages\\sklearn\\svm\\_base.py:1206: ConvergenceWarning: Liblinear failed to converge, increase the number of iterations.\n",
      "  warnings.warn(\n"
     ]
    },
    {
     "data": {
      "text/plain": [
       "LinearSVC()"
      ]
     },
     "execution_count": 25,
     "metadata": {},
     "output_type": "execute_result"
    }
   ],
   "source": [
    "X_train =  data_train.iloc[:,[1,2]]\n",
    "Y_train=data_train.Classe\n",
    "MYSVM = svm.LinearSVC()\n",
    "MYSVM.fit(X_train,Y_train)"
   ]
  },
  {
   "cell_type": "code",
   "execution_count": 26,
   "id": "c6c9c36a",
   "metadata": {},
   "outputs": [
    {
     "name": "stdout",
     "output_type": "stream",
     "text": [
      "le score en utlisant SVM est: 0.994\n"
     ]
    }
   ],
   "source": [
    "X_test =  data_test.iloc[:,[1,2]]\n",
    "Y_test=data_test.Classe\n",
    "print('le score en utlisant SVM est: ' + str(MYSVM.score(X_test,Y_test)))\n"
   ]
  },
  {
   "cell_type": "code",
   "execution_count": null,
   "id": "d3340043",
   "metadata": {},
   "outputs": [],
   "source": []
  },
  {
   "cell_type": "markdown",
   "id": "7e8b3a09",
   "metadata": {},
   "source": [
    "### 3-Test de svm Avec les parametres"
   ]
  },
  {
   "cell_type": "markdown",
   "id": "d59c0714",
   "metadata": {},
   "source": [
    "### Noyau: linéaire, C=1.0"
   ]
  },
  {
   "cell_type": "code",
   "execution_count": 29,
   "id": "0540be98",
   "metadata": {},
   "outputs": [
    {
     "name": "stdout",
     "output_type": "stream",
     "text": [
      "le score est: 0.994\n"
     ]
    }
   ],
   "source": [
    "###POUR Les données TP1 \n",
    "X_train =  data_train.iloc[:,[1,2]]\n",
    "Y_train=data_train.Classe\n",
    "MYSVM = svm.SVC(kernel='linear', C=1.0)\n",
    "MYSVM.fit(X_train,Y_train)\n",
    "X_test =  data_test.iloc[:,[1,2]]\n",
    "Y_test=data_test.Classe\n",
    "print('le score POUR Les données TP1 est: ' + str(MYSVM.score(X_test,Y_test)))\n"
   ]
  },
  {
   "cell_type": "code",
   "execution_count": 30,
   "id": "006b2a5a",
   "metadata": {},
   "outputs": [
    {
     "name": "stdout",
     "output_type": "stream",
     "text": [
      "le score POUR Les données TP2 est: 0.952\n"
     ]
    }
   ],
   "source": [
    "###POUR Les données TP2 \n",
    "X_train =  data_train_2.iloc[:,[1,2]]\n",
    "Y_train=data_train_2.Classe\n",
    "MYSVM = svm.SVC(kernel='linear', C=1.0)\n",
    "MYSVM.fit(X_train,Y_train)\n",
    "X_test =  data_test_2.iloc[:,[1,2]]\n",
    "Y_test=data_test_2.Classe\n",
    "print('le score POUR Les données TP2 est: ' + str(MYSVM.score(X_test,Y_test)))"
   ]
  },
  {
   "cell_type": "markdown",
   "id": "18fa743c",
   "metadata": {},
   "source": [
    "### Noyau: RBF, C=1.0, Gamma = 0.7"
   ]
  },
  {
   "cell_type": "code",
   "execution_count": 33,
   "id": "2cdee742",
   "metadata": {},
   "outputs": [
    {
     "name": "stdout",
     "output_type": "stream",
     "text": [
      "le score POUR Les données TP1 est: 0.99\n"
     ]
    }
   ],
   "source": [
    "###POUR Les données TP1 \n",
    "X_train =  data_train.iloc[:,[1,2]]\n",
    "Y_train=data_train.Classe\n",
    "MYSVM = svm.SVC(kernel='rbf', C=1.0,gamma=0.7)\n",
    "MYSVM.fit(X_train,Y_train)\n",
    "X_test =  data_test.iloc[:,[1,2]]\n",
    "Y_test=data_test.Classe\n",
    "print('le score POUR Les données TP1 est: ' + str(MYSVM.score(X_test,Y_test)))\n"
   ]
  },
  {
   "cell_type": "code",
   "execution_count": 34,
   "id": "dd28480f",
   "metadata": {},
   "outputs": [
    {
     "name": "stdout",
     "output_type": "stream",
     "text": [
      "le score POUR Les données TP2 est: 0.946\n"
     ]
    }
   ],
   "source": [
    "###POUR Les données TP2 \n",
    "X_train =  data_train_2.iloc[:,[1,2]]\n",
    "Y_train=data_train_2.Classe\n",
    "MYSVM = svm.SVC(kernel='rbf', C=1.0,gamma=0.7)\n",
    "MYSVM.fit(X_train,Y_train)\n",
    "X_test =  data_test_2.iloc[:,[1,2]]\n",
    "Y_test=data_test_2.Classe\n",
    "print('le score POUR Les données TP2 est: ' + str(MYSVM.score(X_test,Y_test)))"
   ]
  },
  {
   "cell_type": "markdown",
   "id": "adfaa96f",
   "metadata": {},
   "source": [
    "### Noyau: Polynomial, C=1.0, degré: 3"
   ]
  },
  {
   "cell_type": "code",
   "execution_count": 35,
   "id": "11639f88",
   "metadata": {},
   "outputs": [
    {
     "name": "stdout",
     "output_type": "stream",
     "text": [
      "le score POUR Les données TP1 est: 0.986\n"
     ]
    }
   ],
   "source": [
    "###POUR Les données TP1 \n",
    "X_train =  data_train.iloc[:,[1,2]]\n",
    "Y_train=data_train.Classe\n",
    "MYSVM = svm.SVC(kernel='poly', C=1.0,degree=3)\n",
    "MYSVM.fit(X_train,Y_train)\n",
    "X_test =  data_test.iloc[:,[1,2]]\n",
    "Y_test=data_test.Classe\n",
    "print('le score POUR Les données TP1 est: ' + str(MYSVM.score(X_test,Y_test)))"
   ]
  },
  {
   "cell_type": "code",
   "execution_count": 36,
   "id": "6d2030db",
   "metadata": {},
   "outputs": [
    {
     "name": "stdout",
     "output_type": "stream",
     "text": [
      "le score POUR Les données TP2 est: 0.934\n"
     ]
    }
   ],
   "source": [
    "###POUR Les données TP2 \n",
    "X_train =  data_train_2.iloc[:,[1,2]]\n",
    "Y_train=data_train_2.Classe\n",
    "MYSVM = svm.SVC(kernel='poly', C=1.0,degree=3)\n",
    "MYSVM.fit(X_train,Y_train)\n",
    "X_test =  data_test_2.iloc[:,[1,2]]\n",
    "Y_test=data_test_2.Classe\n",
    "print('le score POUR Les données TP2 est: ' + str(MYSVM.score(X_test,Y_test)))"
   ]
  },
  {
   "cell_type": "markdown",
   "id": "e0117c7a",
   "metadata": {},
   "source": [
    "### 4-Recherche des meilleurs hyperparamètres"
   ]
  },
  {
   "cell_type": "code",
   "execution_count": 38,
   "id": "bfd3b228",
   "metadata": {},
   "outputs": [
    {
     "data": {
      "text/plain": [
       "\"Pour trouver les meilleurs parametres , on va utiliser la recherche exhaustif des meilleurs parametres , c'est a dire les parametres qui  maximisent le score\""
      ]
     },
     "execution_count": 38,
     "metadata": {},
     "output_type": "execute_result"
    }
   ],
   "source": [
    "\"Pour trouver les meilleurs parametres , on va utiliser la recherche exhaustif des meilleurs parametres , c'est a dire les parametres qui  maximisent le score\""
   ]
  },
  {
   "cell_type": "markdown",
   "id": "88a146b3",
   "metadata": {},
   "source": [
    "### Trouvant la meilleur valeur de C pour un Noyau  linéaire"
   ]
  },
  {
   "cell_type": "code",
   "execution_count": 60,
   "id": "abeff5b0",
   "metadata": {},
   "outputs": [
    {
     "name": "stdout",
     "output_type": "stream",
     "text": [
      "La Meilleur valeur de C est: {'C': 0.5263252631578947} , elle donne comme score: 0.996\n"
     ]
    }
   ],
   "source": [
    "###EN UTLISANT LE JEU DE DONNEES DE TP1\n",
    "X_train =  data_train.iloc[:,[1,2]]\n",
    "Y_train=data_train.Classe\n",
    "MYSVM = svm.SVC(kernel='linear')\n",
    "MYGRID = model_selection.GridSearchCV(MYSVM, {'C': np.linspace(0.00001, 10, 20)})\n",
    "MYGRID.fit(X_train,Y_train)\n",
    "\n",
    "MYSVM2=svm.SVC(**MYGRID.best_params_)\n",
    "MYSVM2.fit(X_train,Y_train)\n",
    "X_test =  data_test.iloc[:,[1,2]]\n",
    "Y_test=data_test.Classe\n",
    "\n",
    "print(\"La Meilleur valeur de C est: \" + str(MYGRID.best_params_) +' , elle donne comme score: ' + str(MYSVM2.score(X_test, Y_test)))\n"
   ]
  },
  {
   "cell_type": "code",
   "execution_count": 61,
   "id": "63e8b7bf",
   "metadata": {},
   "outputs": [
    {
     "name": "stdout",
     "output_type": "stream",
     "text": [
      "La Meilleur valeur de C est: {'C': 0.5263252631578947} , elle donne comme score: 0.946\n"
     ]
    }
   ],
   "source": [
    "###EN UTLISANT LE JEU DE DONNEES DE TP2\n",
    "X_train =  data_train_2.iloc[:,[1,2]]\n",
    "Y_train=data_train_2.Classe\n",
    "MYSVM = svm.SVC(kernel='linear')\n",
    "MYGRID = model_selection.GridSearchCV(MYSVM, {'C': np.linspace(0.00001, 10, 20)})\n",
    "MYGRID.fit(X_train,Y_train)\n",
    "\n",
    "MYSVM2=svm.SVC(**MYGRID.best_params_)\n",
    "MYSVM2.fit(X_train,Y_train)\n",
    "X_test =  data_test_2.iloc[:,[1,2]]\n",
    "Y_test=data_test_2.Classe\n",
    "\n",
    "print(\"La Meilleur valeur de C est: \" + str(MYGRID.best_params_) +' , elle donne comme score: ' + str(MYSVM2.score(X_test, Y_test)))"
   ]
  },
  {
   "cell_type": "code",
   "execution_count": null,
   "id": "ae3be64f",
   "metadata": {},
   "outputs": [],
   "source": []
  },
  {
   "cell_type": "markdown",
   "id": "c90a16e4",
   "metadata": {},
   "source": [
    "### Trouvant la meilleur valeur de C et de gamma pour un Noyau  rbf"
   ]
  },
  {
   "cell_type": "code",
   "execution_count": 65,
   "id": "c142ddec",
   "metadata": {},
   "outputs": [
    {
     "name": "stdout",
     "output_type": "stream",
     "text": [
      "Les meilleurs parametres sont: {'C': 0.5263252631578947, 'gamma': 0.5263252631578947} ça donne comme score: 0.992\n"
     ]
    }
   ],
   "source": [
    "###EN UTLISANT LE JEU DE DONNEES DE TP1\n",
    "X_train =  data_train.iloc[:,[1,2]]\n",
    "Y_train=data_train.Classe\n",
    "MYSVM = svm.SVC(kernel='rbf')\n",
    "MYGRID = model_selection.GridSearchCV(MYSVM, {'C': np.linspace(0.00001, 10, 20) , 'gamma' : np.linspace(0.00001, 10, 20) })\n",
    "MYGRID.fit(X_train,Y_train)\n",
    "\n",
    "MYSVM2=svm.SVC(**MYGRID.best_params_)\n",
    "MYSVM2.fit(X_train,Y_train)\n",
    "X_test =  data_test.iloc[:,[1,2]]\n",
    "Y_test=data_test.Classe\n",
    "\n",
    "print(\"Les meilleurs parametres sont: \" + str(MYGRID.best_params_) + ' ça donne comme score: ' + str(MYSVM2.score(X_test, Y_test)))"
   ]
  },
  {
   "cell_type": "code",
   "execution_count": 66,
   "id": "4f5c0f74",
   "metadata": {},
   "outputs": [
    {
     "name": "stdout",
     "output_type": "stream",
     "text": [
      "Les meilleurs parametres sont: {'C': 1.0526405263157896, 'gamma': 0.5263252631578947} ça donne comme score: 0.948\n"
     ]
    }
   ],
   "source": [
    "###EN UTLISANT LE JEU DE DONNEES DE TP1\n",
    "X_train =  data_train_2.iloc[:,[1,2]]\n",
    "Y_train=data_train_2.Classe\n",
    "MYSVM = svm.SVC(kernel='rbf')\n",
    "MYGRID = model_selection.GridSearchCV(MYSVM, {'C': np.linspace(0.00001, 10, 20) , 'gamma' : np.linspace(0.00001, 10, 20) })\n",
    "MYGRID.fit(X_train,Y_train)\n",
    "\n",
    "MYSVM2=svm.SVC(**MYGRID.best_params_)\n",
    "MYSVM2.fit(X_train,Y_train)\n",
    "X_test =  data_test_2.iloc[:,[1,2]]\n",
    "Y_test=data_test_2.Classe\n",
    "\n",
    "print(\"Les meilleurs parametres sont: \" + str(MYGRID.best_params_) + ' ça donne comme score: ' + str(MYSVM2.score(X_test, Y_test)))"
   ]
  },
  {
   "cell_type": "code",
   "execution_count": null,
   "id": "061f6c3c",
   "metadata": {},
   "outputs": [],
   "source": []
  },
  {
   "cell_type": "markdown",
   "id": "ec3492aa",
   "metadata": {},
   "source": [
    "###  Trouvant la meilleur valeur de C et du degré pour un Noyau  Polynomial"
   ]
  },
  {
   "cell_type": "code",
   "execution_count": 67,
   "id": "1c1d4fc2",
   "metadata": {},
   "outputs": [
    {
     "name": "stdout",
     "output_type": "stream",
     "text": [
      "Les meilleurs parametres sont: {'C': 2.105271052631579, 'degree': 1} ça donne comme score: 0.996\n"
     ]
    }
   ],
   "source": [
    "#EN UTLISANT LE JEU DE DONNEES DE TP1\n",
    "X_train =  data_train.iloc[:,[1,2]]\n",
    "Y_train=data_train.Classe\n",
    "MYSVM = svm.SVC(kernel='poly')\n",
    "MYGRID = model_selection.GridSearchCV(MYSVM, {'C': np.linspace(0.00001, 10, 20) , 'degree' : np.arange(20) })\n",
    "MYGRID.fit(X_train,Y_train)\n",
    "\n",
    "MYSVM2=svm.SVC(**MYGRID.best_params_)\n",
    "MYSVM2.fit(X_train,Y_train)\n",
    "X_test =  data_test.iloc[:,[1,2]]\n",
    "Y_test=data_test.Classe\n",
    "\n",
    "print(\"Les meilleurs parametres sont: \" + str(MYGRID.best_params_) + ' ça donne comme score: ' + str(MYSVM2.score(X_test, Y_test)))"
   ]
  },
  {
   "cell_type": "code",
   "execution_count": 68,
   "id": "ac6b3f0c",
   "metadata": {},
   "outputs": [
    {
     "name": "stdout",
     "output_type": "stream",
     "text": [
      "Les meilleurs parametres sont: {'C': 6.315793157894737, 'degree': 1} ça donne comme score: 0.952\n"
     ]
    }
   ],
   "source": [
    "#EN UTLISANT LE JEU DE DONNEES DE TP2\n",
    "X_train =  data_train_2.iloc[:,[1,2]]\n",
    "Y_train=data_train_2.Classe\n",
    "MYSVM = svm.SVC(kernel='poly')\n",
    "MYGRID = model_selection.GridSearchCV(MYSVM, {'C': np.linspace(0.00001, 10, 20) , 'degree' : np.arange(5) })\n",
    "MYGRID.fit(X_train,Y_train)\n",
    "\n",
    "MYSVM2=svm.SVC(**MYGRID.best_params_)\n",
    "MYSVM2.fit(X_train,Y_train)\n",
    "X_test =  data_test_2.iloc[:,[1,2]]\n",
    "Y_test=data_test_2.Classe\n",
    "\n",
    "print(\"Les meilleurs parametres sont: \" + str(MYGRID.best_params_) + ' ça donne comme score: ' + str(MYSVM2.score(X_test, Y_test)))"
   ]
  },
  {
   "cell_type": "code",
   "execution_count": null,
   "id": "f7ee7dd7",
   "metadata": {},
   "outputs": [],
   "source": []
  }
 ],
 "metadata": {
  "kernelspec": {
   "display_name": "Python 3 (ipykernel)",
   "language": "python",
   "name": "python3"
  },
  "language_info": {
   "codemirror_mode": {
    "name": "ipython",
    "version": 3
   },
   "file_extension": ".py",
   "mimetype": "text/x-python",
   "name": "python",
   "nbconvert_exporter": "python",
   "pygments_lexer": "ipython3",
   "version": "3.9.12"
  }
 },
 "nbformat": 4,
 "nbformat_minor": 5
}
