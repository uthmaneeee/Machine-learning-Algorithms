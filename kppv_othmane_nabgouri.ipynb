{
 "cells": [
  {
   "cell_type": "markdown",
   "id": "5050ea4f",
   "metadata": {},
   "source": [
    "### OTHMANE NABGOURI"
   ]
  },
  {
   "cell_type": "code",
   "execution_count": 96,
   "id": "c0049d37",
   "metadata": {},
   "outputs": [],
   "source": [
    "import numpy as np\n",
    "import pandas as pd\n",
    "from tabulate import tabulate\n",
    "import statistics\n",
    "from statistics import mode"
   ]
  },
  {
   "cell_type": "code",
   "execution_count": 245,
   "id": "cd683ffe",
   "metadata": {},
   "outputs": [],
   "source": [
    "header_list = [\"Classe\", \"X\", \"Y\"]\n",
    "data_train=pd.read_csv('data_tp1_app.txt', sep = ' ' ,names=header_list)\n",
    "data_test=pd.read_csv('data_tp1_dec.txt', sep = ' ' ,names=header_list)\n",
    "data_train2=pd.read_csv('data_tp2_app.txt', sep = ' ' ,names=header_list)\n",
    "data_test2=pd.read_csv('data_tp2_dec.txt', sep = ' ' ,names=header_list)\n",
    "data_train3=pd.read_csv('data_tp3_app.txt', sep = ' ' ,names=header_list)\n",
    "data_test3=pd.read_csv('data_tp3_dec.txt', sep = ' ' ,names=header_list)"
   ]
  },
  {
   "cell_type": "markdown",
   "id": "0ceed727",
   "metadata": {},
   "source": [
    "### 1-Classifieur 1PPV"
   ]
  },
  {
   "cell_type": "code",
   "execution_count": 98,
   "id": "b7583eab",
   "metadata": {},
   "outputs": [],
   "source": [
    "def distance_euc(a,b):\n",
    "        return (a[0]-b[0])**2 + (a[1]-b[1])**2"
   ]
  },
  {
   "cell_type": "code",
   "execution_count": 99,
   "id": "9e7b9bae",
   "metadata": {},
   "outputs": [],
   "source": [
    "### Calculons d'abord la distance euclidienne entre chaque echantillon de test et tous les echantillons d'apprentissage\n",
    "def dist(train,test):\n",
    "    X= train.shape[0]\n",
    "    Y= test.shape[0]\n",
    "    dist = np.zeros((Y,X))\n",
    "    for i in range (Y):\n",
    "        for j in range(X):\n",
    "            dist[i,j]=distance_euc(train.iloc[j,[1,2]],test.iloc[i,[1,2]])\n",
    "    return dist"
   ]
  },
  {
   "cell_type": "code",
   "execution_count": 100,
   "id": "4ad336c0",
   "metadata": {},
   "outputs": [],
   "source": [
    "def index(dist,test,K):\n",
    "    \"indice des K les plus proches\"\n",
    "    X=test.shape[0]\n",
    "    indice_deux_proches=np.zeros((X,K))\n",
    "    for i in range(X):\n",
    "        indice_deux_proches[i]= pd.Series(dist[i,:]).nsmallest(K).index\n",
    "    return indice_deux_proches\n",
    "    \n",
    "    "
   ]
  },
  {
   "cell_type": "code",
   "execution_count": 101,
   "id": "ddbb706a",
   "metadata": {},
   "outputs": [],
   "source": [
    "### On extrait la classe des echantillons d'apprentissage lesplus proche\n",
    "def get_class(indice_deux_proches,test,K):\n",
    "    X=test.shape[0]\n",
    "    indexes = np.zeros((X,K))\n",
    "    for k in range(X):\n",
    "        for j in range(K):\n",
    "            if indice_deux_proches[k][j] < 100:\n",
    "                indexes[k][j]=1\n",
    "            elif indice_deux_proches[k][j] >= 100 and indice_deux_proches[k][j] < 200:\n",
    "                indexes[k][j]=2\n",
    "            elif indice_deux_proches[k][j] >= 200 and indice_deux_proches[k][j] < 300:\n",
    "                indexes[k][j]=3\n",
    "            elif indice_deux_proches[k][j] >= 300 and indice_deux_proches[k][j] < 400:\n",
    "                indexes[k][j]=4\n",
    "            elif indice_deux_proches[k][j] >= 400 and indice_deux_proches[k][j] < 500:\n",
    "                indexes[k][j]=5\n",
    "    return indexes"
   ]
  },
  {
   "cell_type": "code",
   "execution_count": 103,
   "id": "0ea48fee",
   "metadata": {},
   "outputs": [],
   "source": [
    "def confusion_matrix(actual, predicted):\n",
    "    Lenghtt = len(actual)\n",
    "    top1=0\n",
    "    # extraire les differents classes\n",
    "    classes = np.unique(actual)\n",
    "\n",
    "    matrix = np.zeros((len(classes), len(classes)))\n",
    "\n",
    "    for i in range(len(classes)):\n",
    "        for j in range(len(classes)):\n",
    "            matrix[i, j] = np.sum((actual == classes[i]) & (predicted[:,0] == classes[j]))\n",
    "    for k in range(Lenghtt):\n",
    "        if actual[k] == predicted[k,0]:\n",
    "            top1+=1\n",
    "    return matrix,top1/Lenghtt"
   ]
  },
  {
   "cell_type": "markdown",
   "id": "22f80e94",
   "metadata": {},
   "source": [
    "### Test sur les données"
   ]
  },
  {
   "cell_type": "markdown",
   "id": "eec6a4e4",
   "metadata": {},
   "source": [
    "On commence par les données du tp1"
   ]
  },
  {
   "cell_type": "code",
   "execution_count": 106,
   "id": "d54746e8",
   "metadata": {},
   "outputs": [
    {
     "data": {
      "text/plain": [
       "(array([[ 99.,   0.,   0.,   0.,   1.],\n",
       "        [  0.,  99.,   0.,   0.,   1.],\n",
       "        [  0.,   0., 100.,   0.,   0.],\n",
       "        [  0.,   0.,   0., 100.,   0.],\n",
       "        [  0.,   0.,   1.,   1.,  98.]]),\n",
       " 0.992)"
      ]
     },
     "execution_count": 106,
     "metadata": {},
     "output_type": "execute_result"
    }
   ],
   "source": [
    "Dist = dist(data_train,data_test)\n",
    "indice_deux_proches=index(Dist,data_test,1)\n",
    "indexes=get_class(indice_deux_proches,data_test,1)\n",
    "Matrix,top1=confusion_matrix(data_test.Classe,indexes)\n",
    "Matrix,top1\n",
    "\n"
   ]
  },
  {
   "cell_type": "markdown",
   "id": "1a168b8d",
   "metadata": {},
   "source": [
    "Pour les données du tp2"
   ]
  },
  {
   "cell_type": "code",
   "execution_count": 42,
   "id": "7b9556d4",
   "metadata": {},
   "outputs": [
    {
     "data": {
      "text/plain": [
       "(array([[100.,   0.,   0.,   0.,   0.],\n",
       "        [  0.,  89.,  11.,   0.,   0.],\n",
       "        [  2.,   4.,  83.,   2.,   9.],\n",
       "        [  0.,   0.,   3.,  96.,   1.],\n",
       "        [  0.,   0.,   7.,   1.,  92.]]),\n",
       " 0.92)"
      ]
     },
     "execution_count": 42,
     "metadata": {},
     "output_type": "execute_result"
    }
   ],
   "source": [
    "Dist = dist(data_train2,data_test2)\n",
    "indice_deux_proches=index(Dist,data_test2,1)\n",
    "indexes=get_class(indice_deux_proches,data_test2,1)\n",
    "Matrix,top1=confusion_matrix(data_test2.Classe,indexes)\n",
    "Matrix,top1"
   ]
  },
  {
   "cell_type": "markdown",
   "id": "19788ffb",
   "metadata": {},
   "source": [
    "Pour les données du tp3"
   ]
  },
  {
   "cell_type": "code",
   "execution_count": 107,
   "id": "fec53662",
   "metadata": {},
   "outputs": [
    {
     "data": {
      "text/plain": [
       "(array([[34., 20., 19., 14., 13.],\n",
       "        [14., 76.,  4.,  1.,  5.],\n",
       "        [24.,  4., 71.,  1.,  0.],\n",
       "        [19.,  2., 12., 65.,  2.],\n",
       "        [15.,  7.,  1.,  0., 77.]]),\n",
       " 0.646)"
      ]
     },
     "execution_count": 107,
     "metadata": {},
     "output_type": "execute_result"
    }
   ],
   "source": [
    "Dist = dist(data_train3,data_test3)\n",
    "indice_deux_proches=index(Dist,data_test3,1)\n",
    "indexes=get_class(indice_deux_proches,data_test3,1)\n",
    "Matrix,top1=confusion_matrix(data_test3.Classe,indexes)\n",
    "Matrix,top1"
   ]
  },
  {
   "cell_type": "markdown",
   "id": "024c5ae0",
   "metadata": {},
   "source": [
    "### Conclusion"
   ]
  },
  {
   "cell_type": "markdown",
   "id": "900d1c9c",
   "metadata": {},
   "source": [
    "On remarque qu'avec les données de TP1 et TP2 on a eu de bons performences en utilisant top1 (0.992,0.92) , et avec les données de TP3 , on a eu 0.646 comme taux de classification."
   ]
  },
  {
   "cell_type": "markdown",
   "id": "ab1d2a9e",
   "metadata": {},
   "source": [
    "C'est evident car on travaille qu'avec un seul plus proche voisin , donc la performance de notre modéle depend de la distribution des données . Ce qui justifie les résultats ci dessus."
   ]
  },
  {
   "cell_type": "code",
   "execution_count": null,
   "id": "c16973b8",
   "metadata": {},
   "outputs": [],
   "source": []
  },
  {
   "cell_type": "markdown",
   "id": "d1e8bf01",
   "metadata": {},
   "source": [
    "### 2-Kppv avec vote à la majorité et vote à l’unanimité"
   ]
  },
  {
   "cell_type": "code",
   "execution_count": null,
   "id": "11e5a26e",
   "metadata": {},
   "outputs": [],
   "source": []
  },
  {
   "cell_type": "markdown",
   "id": "8186fda3",
   "metadata": {},
   "source": [
    "### Vote à la majorité"
   ]
  },
  {
   "cell_type": "markdown",
   "id": "82003af6",
   "metadata": {},
   "source": [
    "L'idée ici est de choisir la classe majoritaire"
   ]
  },
  {
   "cell_type": "code",
   "execution_count": 162,
   "id": "01cc9daa",
   "metadata": {},
   "outputs": [],
   "source": [
    "def majorite(indexes):\n",
    "    L,k = indexes.shape\n",
    "    maj = np.zeros(L)\n",
    "    for i in range(L):\n",
    "            maj[i]=indexes[i,:].max()\n",
    "    return maj"
   ]
  },
  {
   "cell_type": "code",
   "execution_count": 110,
   "id": "65346a2d",
   "metadata": {},
   "outputs": [],
   "source": [
    "def reshape_majorite(indexes_majorite):\n",
    "    X=indexes_majorite.shape[0]\n",
    "    maj=indexes_majorite.reshape(X,1)\n",
    "    return maj"
   ]
  },
  {
   "cell_type": "code",
   "execution_count": 151,
   "id": "6eb231a9",
   "metadata": {},
   "outputs": [],
   "source": [
    "def test(train,test,k):\n",
    "    Dist = dist(train,test)\n",
    "    indice_deux_proches=index(Dist,test,k)\n",
    "    indexes=get_class(indice_deux_proches,test,k)\n",
    "    major = majorite(indexes)\n",
    "    redim=reshape_majorite(major)\n",
    "    Matrix,top1=confusion_matrix(test.Classe,redim)\n",
    "    return Matrix,top1\n",
    "    "
   ]
  },
  {
   "cell_type": "markdown",
   "id": "4917dd6b",
   "metadata": {},
   "source": [
    "### Test "
   ]
  },
  {
   "cell_type": "markdown",
   "id": "381d1480",
   "metadata": {},
   "source": [
    "Pour les données TP1"
   ]
  },
  {
   "cell_type": "code",
   "execution_count": 152,
   "id": "1a2bad4f",
   "metadata": {},
   "outputs": [],
   "source": [
    "k=5"
   ]
  },
  {
   "cell_type": "code",
   "execution_count": 154,
   "id": "6affeb77",
   "metadata": {},
   "outputs": [],
   "source": [
    "Matrix,top1=test(data_train,data_test,k)"
   ]
  },
  {
   "cell_type": "code",
   "execution_count": 155,
   "id": "9177ae94",
   "metadata": {},
   "outputs": [
    {
     "data": {
      "text/plain": [
       "(array([[ 98.,   0.,   0.,   0.,   2.],\n",
       "        [  0.,  97.,   0.,   0.,   3.],\n",
       "        [  0.,   0., 100.,   0.,   0.],\n",
       "        [  0.,   0.,   0., 100.,   0.],\n",
       "        [  0.,   0.,   0.,   1.,  99.]]),\n",
       " 0.988)"
      ]
     },
     "execution_count": 155,
     "metadata": {},
     "output_type": "execute_result"
    }
   ],
   "source": [
    "Matrix,top1"
   ]
  },
  {
   "cell_type": "markdown",
   "id": "6a19f40a",
   "metadata": {},
   "source": [
    "Pour les données de TP2"
   ]
  },
  {
   "cell_type": "code",
   "execution_count": 160,
   "id": "eb067716",
   "metadata": {},
   "outputs": [],
   "source": [
    "Matrix,top1=test(data_train2,data_test2,k)"
   ]
  },
  {
   "cell_type": "code",
   "execution_count": 161,
   "id": "6c0f58ac",
   "metadata": {},
   "outputs": [
    {
     "data": {
      "text/plain": [
       "(array([[ 98.,   1.,   1.,   0.,   0.],\n",
       "        [  0.,  74.,  25.,   1.,   0.],\n",
       "        [  0.,   2.,  78.,   5.,  15.],\n",
       "        [  0.,   0.,   3.,  93.,   4.],\n",
       "        [  0.,   0.,   0.,   0., 100.]]),\n",
       " 0.886)"
      ]
     },
     "execution_count": 161,
     "metadata": {},
     "output_type": "execute_result"
    }
   ],
   "source": [
    "Matrix,top1"
   ]
  },
  {
   "cell_type": "markdown",
   "id": "f16e2f1c",
   "metadata": {},
   "source": [
    "Pour les données de TP3"
   ]
  },
  {
   "cell_type": "code",
   "execution_count": 158,
   "id": "579be367",
   "metadata": {},
   "outputs": [],
   "source": [
    "Matrix,top1=test(data_train3,data_test3,k)"
   ]
  },
  {
   "cell_type": "code",
   "execution_count": 159,
   "id": "8fb5e7fc",
   "metadata": {},
   "outputs": [
    {
     "data": {
      "text/plain": [
       "(array([[ 1., 11., 38., 21., 29.],\n",
       "        [ 1., 59., 17.,  1., 22.],\n",
       "        [ 1.,  3., 90.,  5.,  1.],\n",
       "        [ 0.,  1., 19., 72.,  8.],\n",
       "        [ 0.,  2.,  2.,  2., 94.]]),\n",
       " 0.632)"
      ]
     },
     "execution_count": 159,
     "metadata": {},
     "output_type": "execute_result"
    }
   ],
   "source": [
    "Matrix,top1"
   ]
  },
  {
   "cell_type": "code",
   "execution_count": null,
   "id": "8d24f103",
   "metadata": {},
   "outputs": [],
   "source": []
  },
  {
   "cell_type": "markdown",
   "id": "b3cb7a13",
   "metadata": {},
   "source": [
    "### vote à l’unanimité"
   ]
  },
  {
   "cell_type": "markdown",
   "id": "d5e10607",
   "metadata": {},
   "source": [
    "Si on trouve que les K echantillons plus proche à l'échantillon de test sont de la meme classe , on prend la classe , sinon on retourne none "
   ]
  },
  {
   "cell_type": "code",
   "execution_count": 178,
   "id": "c9e7c02c",
   "metadata": {},
   "outputs": [],
   "source": [
    "def unaminite(indexes):\n",
    "    X=indexes.shape[0]\n",
    "    indice=np.zeros(X)\n",
    "    for i in range(X):\n",
    "        if (all(ele == indexes[i][0] for ele in indexes[i,:])) :\n",
    "            indice[i]=indexes[i][0]\n",
    "        else :\n",
    "            indice[i]=None\n",
    "    return indice\n",
    "        "
   ]
  },
  {
   "cell_type": "code",
   "execution_count": 229,
   "id": "b2a89651",
   "metadata": {},
   "outputs": [],
   "source": [
    "def test2(train,test,k):\n",
    "    Dist = dist(train,test)\n",
    "    indice_deux_proches=index(Dist,test,k)\n",
    "    indexes=get_class(indice_deux_proches,test,k)\n",
    "    unam = unaminite(indexes)\n",
    "    redim=reshape_majorite(unam)\n",
    "    Matrix,top1=confusion_matrix(test.Classe,redim)\n",
    "    return Matrix,top1"
   ]
  },
  {
   "cell_type": "code",
   "execution_count": null,
   "id": "c1c3a7de",
   "metadata": {},
   "outputs": [],
   "source": []
  },
  {
   "cell_type": "markdown",
   "id": "c22f239d",
   "metadata": {},
   "source": [
    "### Test"
   ]
  },
  {
   "cell_type": "markdown",
   "id": "caa01496",
   "metadata": {},
   "source": [
    "k=5"
   ]
  },
  {
   "cell_type": "markdown",
   "id": "c68548c6",
   "metadata": {},
   "source": [
    "Pour les données de TP1"
   ]
  },
  {
   "cell_type": "code",
   "execution_count": 182,
   "id": "43ce0e5b",
   "metadata": {},
   "outputs": [],
   "source": [
    "Matrix,top1=test2(data_train,data_test,k)"
   ]
  },
  {
   "cell_type": "code",
   "execution_count": 183,
   "id": "8bcb4a41",
   "metadata": {},
   "outputs": [
    {
     "data": {
      "text/plain": [
       "(array([[ 98.,   0.,   0.,   0.,   1.],\n",
       "        [  0.,  97.,   0.,   0.,   0.],\n",
       "        [  0.,   0., 100.,   0.,   0.],\n",
       "        [  0.,   0.,   0., 100.,   0.],\n",
       "        [  0.,   0.,   0.,   0.,  97.]]),\n",
       " 0.984)"
      ]
     },
     "execution_count": 183,
     "metadata": {},
     "output_type": "execute_result"
    }
   ],
   "source": [
    "Matrix,top1"
   ]
  },
  {
   "cell_type": "markdown",
   "id": "9e109747",
   "metadata": {},
   "source": [
    "Pour les données de TP2"
   ]
  },
  {
   "cell_type": "code",
   "execution_count": 185,
   "id": "0e39de07",
   "metadata": {},
   "outputs": [],
   "source": [
    "Matrix,top1=test2(data_train2,data_test2,k)"
   ]
  },
  {
   "cell_type": "code",
   "execution_count": 186,
   "id": "ef84a074",
   "metadata": {},
   "outputs": [
    {
     "data": {
      "text/plain": [
       "(array([[98.,  0.,  0.,  0.,  0.],\n",
       "        [ 0., 73.,  0.,  0.,  0.],\n",
       "        [ 0.,  2., 70.,  1.,  2.],\n",
       "        [ 0.,  0.,  3., 91.,  0.],\n",
       "        [ 0.,  0.,  0.,  0., 72.]]),\n",
       " 0.808)"
      ]
     },
     "execution_count": 186,
     "metadata": {},
     "output_type": "execute_result"
    }
   ],
   "source": [
    "Matrix,top1"
   ]
  },
  {
   "cell_type": "markdown",
   "id": "9a5fa241",
   "metadata": {},
   "source": [
    "Pour les données de TP3"
   ]
  },
  {
   "cell_type": "code",
   "execution_count": 187,
   "id": "0b30ebbe",
   "metadata": {},
   "outputs": [],
   "source": [
    "Matrix,top1=test2(data_train3,data_test3,k)"
   ]
  },
  {
   "cell_type": "code",
   "execution_count": 188,
   "id": "3c15108a",
   "metadata": {},
   "outputs": [
    {
     "data": {
      "text/plain": [
       "(array([[ 1.,  3.,  2.,  5.,  7.],\n",
       "        [ 1., 42.,  0.,  0.,  2.],\n",
       "        [ 1.,  0., 35.,  1.,  0.],\n",
       "        [ 0.,  0.,  2., 43.,  0.],\n",
       "        [ 0.,  1.,  0.,  0., 49.]]),\n",
       " 0.34)"
      ]
     },
     "execution_count": 188,
     "metadata": {},
     "output_type": "execute_result"
    }
   ],
   "source": [
    "Matrix,top1"
   ]
  },
  {
   "cell_type": "code",
   "execution_count": null,
   "id": "f9b649dd",
   "metadata": {},
   "outputs": [],
   "source": []
  },
  {
   "cell_type": "markdown",
   "id": "d97a8558",
   "metadata": {},
   "source": [
    "### 3-Cross Validation"
   ]
  },
  {
   "cell_type": "markdown",
   "id": "afec7353",
   "metadata": {},
   "source": [
    "Pour optimiser la valeur de k , on va utiliser uniquement les données d'apprentissage car les données de test sont déstinés uniquement pour le test , et on a pas le droit d'ajuster notre parametre k en les utilisant . Comme ça , on aura un modéle qui est adabté au probleme et non au jeu de données."
   ]
  },
  {
   "cell_type": "markdown",
   "id": "53b13c23",
   "metadata": {},
   "source": [
    "on aura 20% des données comme partie test , et 80% comme partie entrainement"
   ]
  },
  {
   "cell_type": "code",
   "execution_count": 189,
   "id": "9abd4bd9",
   "metadata": {},
   "outputs": [],
   "source": [
    "def cross_validation(train):\n",
    "    #On divise en premier temps le jeu de donnée en 5 classes :\n",
    "    c1 = train[0:100]  \n",
    "    c2 = train[100:200]\n",
    "    c3 = train[200:300]\n",
    "    c4 = train[300:400]\n",
    "    c5= train[400:500]\n",
    "    train1= pd.concat([c1.iloc[:80],c2.iloc[:80],c3.iloc[:80],c4.iloc[:80],c5.iloc[:80]],ignore_index=True )\n",
    "    test1 = pd.concat([c1.iloc[80:100],c2.iloc[80:100],c3.iloc[80:100],c4.iloc[80:100],c5.iloc[80:100]],ignore_index=True )\n",
    "    \n",
    "    train2= pd.concat([c1.iloc[20:],c2.iloc[20:],c3.iloc[20:],c4.iloc[20:],c5.iloc[20:]],ignore_index=True )\n",
    "    test2 = pd.concat([c1.iloc[:20],c2.iloc[:20],c3.iloc[:20],c4.iloc[:20],c5.iloc[:20]],ignore_index=True )\n",
    "    \n",
    "    train3= pd.concat([pd.concat([c1.iloc[:20],c1.iloc[40:]]),pd.concat([c2.iloc[:20],c2.iloc[40:]]),pd.concat([c3.iloc[:20],c3.iloc[40:]]),pd.concat([c4.iloc[:20],c4.iloc[40:]]),pd.concat([c5.iloc[:20],c5.iloc[40:]])],ignore_index=True )\n",
    "    test3 = pd.concat([c1.iloc[20:40],c2.iloc[20:40],c3.iloc[20:40],c4.iloc[20:40],c5.iloc[20:40]],ignore_index=True )\n",
    "\n",
    "    train4= pd.concat([pd.concat([c1.iloc[:40],c1.iloc[60:]]),pd.concat([c2.iloc[:40],c2.iloc[60:]]),pd.concat([c3.iloc[:40],c3.iloc[60:]]),pd.concat([c4.iloc[:40],c4.iloc[60:]]),pd.concat([c5.iloc[:40],c5.iloc[60:]])],ignore_index=True )\n",
    "    test4 = pd.concat([c1.iloc[40:60],c2.iloc[40:60],c3.iloc[40:60],c4.iloc[40:60],c5.iloc[40:60]],ignore_index=True )\n",
    "    \n",
    "    train5= pd.concat([pd.concat([c1.iloc[:60],c1.iloc[80:]]),pd.concat([c2.iloc[:60],c2.iloc[80:]]),pd.concat([c3.iloc[:60],c3.iloc[80:]]),pd.concat([c4.iloc[:60],c4.iloc[80:]]),pd.concat([c5.iloc[:60],c5.iloc[80:]])],ignore_index=True )\n",
    "    test5 = pd.concat([c1.iloc[60:80],c2.iloc[60:80],c3.iloc[60:80],c4.iloc[60:80],c5.iloc[60:80]],ignore_index=True )\n",
    "    \n",
    "    return train1,test1,train2,test2,train3,test3,train4,test4,train5,test5"
   ]
  },
  {
   "cell_type": "code",
   "execution_count": null,
   "id": "edc5da2c",
   "metadata": {},
   "outputs": [],
   "source": []
  },
  {
   "cell_type": "markdown",
   "id": "be7839f2",
   "metadata": {},
   "source": [
    "### Cherchons la meilleur valeur de K en utilisant le vote à la majorité"
   ]
  },
  {
   "cell_type": "markdown",
   "id": "4b772e75",
   "metadata": {},
   "source": [
    "### En utilisant les données de TP1"
   ]
  },
  {
   "cell_type": "code",
   "execution_count": 220,
   "id": "13f43fb5",
   "metadata": {},
   "outputs": [],
   "source": [
    "train1,test1,train2,data_test2,train3,donne_test3,train4,test4,train5,test5=cross_validation(data_train)"
   ]
  },
  {
   "cell_type": "code",
   "execution_count": 221,
   "id": "5dd7f3ca",
   "metadata": {},
   "outputs": [],
   "source": [
    "###Les differntes valeurs de K qu'on va tester\n",
    "K=[1]\n",
    "K.extend([k for k in range(5,100,5)] )"
   ]
  },
  {
   "cell_type": "code",
   "execution_count": 222,
   "id": "939b3fbd",
   "metadata": {},
   "outputs": [],
   "source": [
    "def test3(train,DATAtest,list_K):\n",
    "    for k in list_K:\n",
    "        Matrix,top1=test(train,DATAtest,k) \n",
    "        print(\"Pour k= \" + str(k) + \", on a top1= \" + str(top1)  )\n",
    "    return 0\n",
    "    "
   ]
  },
  {
   "cell_type": "markdown",
   "id": "7e2f252a",
   "metadata": {},
   "source": [
    "On commence par train1,test1:"
   ]
  },
  {
   "cell_type": "code",
   "execution_count": 201,
   "id": "b642b1b0",
   "metadata": {},
   "outputs": [
    {
     "name": "stdout",
     "output_type": "stream",
     "text": [
      "Pour k= 1, on a top1= 0.51\n",
      "Pour k= 5, on a top1= 0.75\n",
      "Pour k= 10, on a top1= 0.79\n",
      "Pour k= 15, on a top1= 0.79\n",
      "Pour k= 20, on a top1= 0.79\n",
      "Pour k= 25, on a top1= 0.79\n",
      "Pour k= 30, on a top1= 0.79\n",
      "Pour k= 35, on a top1= 0.79\n",
      "Pour k= 40, on a top1= 0.77\n",
      "Pour k= 45, on a top1= 0.75\n",
      "Pour k= 50, on a top1= 0.73\n",
      "Pour k= 55, on a top1= 0.71\n",
      "Pour k= 60, on a top1= 0.64\n",
      "Pour k= 65, on a top1= 0.61\n",
      "Pour k= 70, on a top1= 0.55\n",
      "Pour k= 75, on a top1= 0.49\n",
      "Pour k= 80, on a top1= 0.3\n",
      "Pour k= 85, on a top1= 0.2\n",
      "Pour k= 90, on a top1= 0.2\n",
      "Pour k= 95, on a top1= 0.2\n"
     ]
    },
    {
     "data": {
      "text/plain": [
       "0"
      ]
     },
     "execution_count": 201,
     "metadata": {},
     "output_type": "execute_result"
    }
   ],
   "source": [
    "test3(train1,test1,K)"
   ]
  },
  {
   "cell_type": "markdown",
   "id": "5178bf4e",
   "metadata": {},
   "source": [
    "Pour train2,test2 :"
   ]
  },
  {
   "cell_type": "code",
   "execution_count": 223,
   "id": "0ea3d0fd",
   "metadata": {},
   "outputs": [
    {
     "name": "stdout",
     "output_type": "stream",
     "text": [
      "Pour k= 1, on a top1= 0.48\n",
      "Pour k= 5, on a top1= 0.78\n",
      "Pour k= 10, on a top1= 0.79\n",
      "Pour k= 15, on a top1= 0.79\n",
      "Pour k= 20, on a top1= 0.78\n",
      "Pour k= 25, on a top1= 0.78\n",
      "Pour k= 30, on a top1= 0.77\n",
      "Pour k= 35, on a top1= 0.76\n",
      "Pour k= 40, on a top1= 0.75\n",
      "Pour k= 45, on a top1= 0.73\n",
      "Pour k= 50, on a top1= 0.72\n",
      "Pour k= 55, on a top1= 0.68\n",
      "Pour k= 60, on a top1= 0.66\n",
      "Pour k= 65, on a top1= 0.66\n",
      "Pour k= 70, on a top1= 0.65\n",
      "Pour k= 75, on a top1= 0.61\n",
      "Pour k= 80, on a top1= 0.35\n",
      "Pour k= 85, on a top1= 0.2\n",
      "Pour k= 90, on a top1= 0.2\n",
      "Pour k= 95, on a top1= 0.2\n"
     ]
    },
    {
     "data": {
      "text/plain": [
       "0"
      ]
     },
     "execution_count": 223,
     "metadata": {},
     "output_type": "execute_result"
    }
   ],
   "source": [
    "test3(train2,data_test2,K)"
   ]
  },
  {
   "cell_type": "markdown",
   "id": "fe6119c3",
   "metadata": {},
   "source": [
    "Pour train3,test3"
   ]
  },
  {
   "cell_type": "code",
   "execution_count": 208,
   "id": "61fdb8ed",
   "metadata": {},
   "outputs": [
    {
     "name": "stdout",
     "output_type": "stream",
     "text": [
      "Pour k= 1, on a top1= 0.5\n",
      "Pour k= 5, on a top1= 0.74\n",
      "Pour k= 10, on a top1= 0.79\n",
      "Pour k= 15, on a top1= 0.78\n",
      "Pour k= 20, on a top1= 0.78\n",
      "Pour k= 25, on a top1= 0.77\n",
      "Pour k= 30, on a top1= 0.77\n",
      "Pour k= 35, on a top1= 0.77\n",
      "Pour k= 40, on a top1= 0.75\n",
      "Pour k= 45, on a top1= 0.74\n",
      "Pour k= 50, on a top1= 0.72\n",
      "Pour k= 55, on a top1= 0.71\n",
      "Pour k= 60, on a top1= 0.66\n",
      "Pour k= 65, on a top1= 0.63\n",
      "Pour k= 70, on a top1= 0.59\n",
      "Pour k= 75, on a top1= 0.53\n",
      "Pour k= 80, on a top1= 0.38\n",
      "Pour k= 85, on a top1= 0.2\n",
      "Pour k= 90, on a top1= 0.2\n",
      "Pour k= 95, on a top1= 0.2\n"
     ]
    },
    {
     "data": {
      "text/plain": [
       "0"
      ]
     },
     "execution_count": 208,
     "metadata": {},
     "output_type": "execute_result"
    }
   ],
   "source": [
    "test3(train3,donne_test3,K)"
   ]
  },
  {
   "cell_type": "markdown",
   "id": "3c4d8fd7",
   "metadata": {},
   "source": [
    "Pour train4, test4"
   ]
  },
  {
   "cell_type": "code",
   "execution_count": 204,
   "id": "13a85e3d",
   "metadata": {},
   "outputs": [
    {
     "name": "stdout",
     "output_type": "stream",
     "text": [
      "Pour k= 1, on a top1= 0.51\n",
      "Pour k= 5, on a top1= 0.73\n",
      "Pour k= 10, on a top1= 0.78\n",
      "Pour k= 15, on a top1= 0.78\n",
      "Pour k= 20, on a top1= 0.76\n",
      "Pour k= 25, on a top1= 0.76\n",
      "Pour k= 30, on a top1= 0.75\n",
      "Pour k= 35, on a top1= 0.74\n",
      "Pour k= 40, on a top1= 0.71\n",
      "Pour k= 45, on a top1= 0.71\n",
      "Pour k= 50, on a top1= 0.69\n",
      "Pour k= 55, on a top1= 0.68\n",
      "Pour k= 60, on a top1= 0.64\n",
      "Pour k= 65, on a top1= 0.61\n",
      "Pour k= 70, on a top1= 0.58\n",
      "Pour k= 75, on a top1= 0.53\n",
      "Pour k= 80, on a top1= 0.41\n",
      "Pour k= 85, on a top1= 0.2\n",
      "Pour k= 90, on a top1= 0.2\n",
      "Pour k= 95, on a top1= 0.2\n"
     ]
    },
    {
     "data": {
      "text/plain": [
       "0"
      ]
     },
     "execution_count": 204,
     "metadata": {},
     "output_type": "execute_result"
    }
   ],
   "source": [
    "test3(train4,test4,K)"
   ]
  },
  {
   "cell_type": "markdown",
   "id": "70809a9b",
   "metadata": {},
   "source": [
    "Pour train 5,test5"
   ]
  },
  {
   "cell_type": "code",
   "execution_count": 206,
   "id": "1874ee86",
   "metadata": {},
   "outputs": [
    {
     "name": "stdout",
     "output_type": "stream",
     "text": [
      "Pour k= 1, on a top1= 0.56\n",
      "Pour k= 5, on a top1= 0.78\n",
      "Pour k= 10, on a top1= 0.78\n",
      "Pour k= 15, on a top1= 0.78\n",
      "Pour k= 20, on a top1= 0.78\n",
      "Pour k= 25, on a top1= 0.78\n",
      "Pour k= 30, on a top1= 0.78\n",
      "Pour k= 35, on a top1= 0.77\n",
      "Pour k= 40, on a top1= 0.77\n",
      "Pour k= 45, on a top1= 0.77\n",
      "Pour k= 50, on a top1= 0.76\n",
      "Pour k= 55, on a top1= 0.76\n",
      "Pour k= 60, on a top1= 0.75\n",
      "Pour k= 65, on a top1= 0.72\n",
      "Pour k= 70, on a top1= 0.62\n",
      "Pour k= 75, on a top1= 0.55\n",
      "Pour k= 80, on a top1= 0.4\n",
      "Pour k= 85, on a top1= 0.2\n",
      "Pour k= 90, on a top1= 0.2\n",
      "Pour k= 95, on a top1= 0.2\n"
     ]
    },
    {
     "data": {
      "text/plain": [
       "0"
      ]
     },
     "execution_count": 206,
     "metadata": {},
     "output_type": "execute_result"
    }
   ],
   "source": [
    "test3(train5,test5,K)"
   ]
  },
  {
   "cell_type": "markdown",
   "id": "0cc1092d",
   "metadata": {},
   "source": [
    "### Conclusion"
   ]
  },
  {
   "cell_type": "markdown",
   "id": "21160e07",
   "metadata": {},
   "source": [
    "La meilleur valeur de K en utilisant le vote à la majorité égal à 10"
   ]
  },
  {
   "cell_type": "markdown",
   "id": "ee1705bd",
   "metadata": {},
   "source": [
    "On remarque aussi que la performance de notre modéle a diminuer en utilisanr cross validation"
   ]
  },
  {
   "cell_type": "code",
   "execution_count": null,
   "id": "ef012a6c",
   "metadata": {},
   "outputs": [],
   "source": []
  },
  {
   "cell_type": "markdown",
   "id": "ae95a27c",
   "metadata": {},
   "source": [
    "### Cherchons la meilleur valeur de K en utilisant le vote à l’unanimité"
   ]
  },
  {
   "cell_type": "code",
   "execution_count": null,
   "id": "ee36a17f",
   "metadata": {},
   "outputs": [],
   "source": []
  },
  {
   "cell_type": "markdown",
   "id": "23fa1467",
   "metadata": {},
   "source": [
    "### En utilisant les données de TP1"
   ]
  },
  {
   "cell_type": "code",
   "execution_count": 227,
   "id": "2f3b140b",
   "metadata": {},
   "outputs": [],
   "source": [
    "train1,test1,train2,data_test2,train3,test3,train4,test4,train5,test5=cross_validation(data_train)"
   ]
  },
  {
   "cell_type": "code",
   "execution_count": 228,
   "id": "9cb0a586",
   "metadata": {},
   "outputs": [],
   "source": [
    "def test_4(train,DATAtest,list_K):\n",
    "    for k in list_K:\n",
    "        Matrix,top1=test2(train,DATAtest,k) \n",
    "        print(\"Pour k= \" + str(k) + \", on a top1= \" + str(top1)  )\n",
    "    return 0"
   ]
  },
  {
   "cell_type": "markdown",
   "id": "e5423778",
   "metadata": {},
   "source": [
    "en utilisant train1,test1"
   ]
  },
  {
   "cell_type": "code",
   "execution_count": 230,
   "id": "70f9e2c8",
   "metadata": {},
   "outputs": [
    {
     "name": "stdout",
     "output_type": "stream",
     "text": [
      "Pour k= 1, on a top1= 0.51\n",
      "Pour k= 5, on a top1= 0.23\n",
      "Pour k= 10, on a top1= 0.21\n",
      "Pour k= 15, on a top1= 0.2\n",
      "Pour k= 20, on a top1= 0.2\n",
      "Pour k= 25, on a top1= 0.2\n",
      "Pour k= 30, on a top1= 0.2\n",
      "Pour k= 35, on a top1= 0.2\n",
      "Pour k= 40, on a top1= 0.18\n",
      "Pour k= 45, on a top1= 0.18\n",
      "Pour k= 50, on a top1= 0.18\n",
      "Pour k= 55, on a top1= 0.18\n",
      "Pour k= 60, on a top1= 0.17\n",
      "Pour k= 65, on a top1= 0.16\n",
      "Pour k= 70, on a top1= 0.15\n",
      "Pour k= 75, on a top1= 0.12\n",
      "Pour k= 80, on a top1= 0.03\n",
      "Pour k= 85, on a top1= 0.0\n",
      "Pour k= 90, on a top1= 0.0\n",
      "Pour k= 95, on a top1= 0.0\n"
     ]
    },
    {
     "data": {
      "text/plain": [
       "0"
      ]
     },
     "execution_count": 230,
     "metadata": {},
     "output_type": "execute_result"
    }
   ],
   "source": [
    "test_4(train1,test1,K)"
   ]
  },
  {
   "cell_type": "markdown",
   "id": "9bde0e34",
   "metadata": {},
   "source": [
    "en utilisant train2,test2"
   ]
  },
  {
   "cell_type": "code",
   "execution_count": 232,
   "id": "f39eebaa",
   "metadata": {},
   "outputs": [
    {
     "name": "stdout",
     "output_type": "stream",
     "text": [
      "Pour k= 1, on a top1= 0.48\n",
      "Pour k= 5, on a top1= 0.25\n",
      "Pour k= 10, on a top1= 0.2\n",
      "Pour k= 15, on a top1= 0.2\n",
      "Pour k= 20, on a top1= 0.2\n",
      "Pour k= 25, on a top1= 0.2\n",
      "Pour k= 30, on a top1= 0.2\n",
      "Pour k= 35, on a top1= 0.2\n",
      "Pour k= 40, on a top1= 0.19\n",
      "Pour k= 45, on a top1= 0.18\n",
      "Pour k= 50, on a top1= 0.17\n",
      "Pour k= 55, on a top1= 0.17\n",
      "Pour k= 60, on a top1= 0.17\n",
      "Pour k= 65, on a top1= 0.17\n",
      "Pour k= 70, on a top1= 0.17\n",
      "Pour k= 75, on a top1= 0.15\n",
      "Pour k= 80, on a top1= 0.04\n",
      "Pour k= 85, on a top1= 0.0\n",
      "Pour k= 90, on a top1= 0.0\n",
      "Pour k= 95, on a top1= 0.0\n"
     ]
    },
    {
     "data": {
      "text/plain": [
       "0"
      ]
     },
     "execution_count": 232,
     "metadata": {},
     "output_type": "execute_result"
    }
   ],
   "source": [
    "test_4(train2,data_test2,K)"
   ]
  },
  {
   "cell_type": "markdown",
   "id": "1fed6787",
   "metadata": {},
   "source": [
    "en utilisant train3,test3"
   ]
  },
  {
   "cell_type": "code",
   "execution_count": 235,
   "id": "c3239e0e",
   "metadata": {},
   "outputs": [
    {
     "name": "stdout",
     "output_type": "stream",
     "text": [
      "Pour k= 1, on a top1= 0.5\n",
      "Pour k= 5, on a top1= 0.25\n",
      "Pour k= 10, on a top1= 0.22\n",
      "Pour k= 15, on a top1= 0.2\n",
      "Pour k= 20, on a top1= 0.2\n",
      "Pour k= 25, on a top1= 0.19\n",
      "Pour k= 30, on a top1= 0.19\n",
      "Pour k= 35, on a top1= 0.19\n",
      "Pour k= 40, on a top1= 0.17\n",
      "Pour k= 45, on a top1= 0.17\n",
      "Pour k= 50, on a top1= 0.16\n",
      "Pour k= 55, on a top1= 0.16\n",
      "Pour k= 60, on a top1= 0.15\n",
      "Pour k= 65, on a top1= 0.15\n",
      "Pour k= 70, on a top1= 0.14\n",
      "Pour k= 75, on a top1= 0.13\n",
      "Pour k= 80, on a top1= 0.05\n",
      "Pour k= 85, on a top1= 0.0\n",
      "Pour k= 90, on a top1= 0.0\n",
      "Pour k= 95, on a top1= 0.0\n"
     ]
    },
    {
     "data": {
      "text/plain": [
       "0"
      ]
     },
     "execution_count": 235,
     "metadata": {},
     "output_type": "execute_result"
    }
   ],
   "source": [
    "test_4(train3,test3,K)"
   ]
  },
  {
   "cell_type": "markdown",
   "id": "b490d85a",
   "metadata": {},
   "source": [
    "en utilisant train4,test4"
   ]
  },
  {
   "cell_type": "code",
   "execution_count": 236,
   "id": "b035ce9b",
   "metadata": {},
   "outputs": [
    {
     "name": "stdout",
     "output_type": "stream",
     "text": [
      "Pour k= 1, on a top1= 0.51\n",
      "Pour k= 5, on a top1= 0.23\n",
      "Pour k= 10, on a top1= 0.21\n",
      "Pour k= 15, on a top1= 0.19\n",
      "Pour k= 20, on a top1= 0.18\n",
      "Pour k= 25, on a top1= 0.18\n",
      "Pour k= 30, on a top1= 0.18\n",
      "Pour k= 35, on a top1= 0.17\n",
      "Pour k= 40, on a top1= 0.16\n",
      "Pour k= 45, on a top1= 0.16\n",
      "Pour k= 50, on a top1= 0.15\n",
      "Pour k= 55, on a top1= 0.15\n",
      "Pour k= 60, on a top1= 0.15\n",
      "Pour k= 65, on a top1= 0.14\n",
      "Pour k= 70, on a top1= 0.14\n",
      "Pour k= 75, on a top1= 0.12\n",
      "Pour k= 80, on a top1= 0.05\n",
      "Pour k= 85, on a top1= 0.0\n",
      "Pour k= 90, on a top1= 0.0\n",
      "Pour k= 95, on a top1= 0.0\n"
     ]
    },
    {
     "data": {
      "text/plain": [
       "0"
      ]
     },
     "execution_count": 236,
     "metadata": {},
     "output_type": "execute_result"
    }
   ],
   "source": [
    "test_4(train4,test4,K)"
   ]
  },
  {
   "cell_type": "markdown",
   "id": "04923e9d",
   "metadata": {},
   "source": [
    "en utilisant train5,test5"
   ]
  },
  {
   "cell_type": "code",
   "execution_count": 238,
   "id": "72293bbe",
   "metadata": {},
   "outputs": [
    {
     "name": "stdout",
     "output_type": "stream",
     "text": [
      "Pour k= 1, on a top1= 0.56\n",
      "Pour k= 5, on a top1= 0.23\n",
      "Pour k= 10, on a top1= 0.19\n",
      "Pour k= 15, on a top1= 0.19\n",
      "Pour k= 20, on a top1= 0.19\n",
      "Pour k= 25, on a top1= 0.19\n",
      "Pour k= 30, on a top1= 0.19\n",
      "Pour k= 35, on a top1= 0.18\n",
      "Pour k= 40, on a top1= 0.18\n",
      "Pour k= 45, on a top1= 0.18\n",
      "Pour k= 50, on a top1= 0.18\n",
      "Pour k= 55, on a top1= 0.18\n",
      "Pour k= 60, on a top1= 0.18\n",
      "Pour k= 65, on a top1= 0.16\n",
      "Pour k= 70, on a top1= 0.13\n",
      "Pour k= 75, on a top1= 0.11\n",
      "Pour k= 80, on a top1= 0.01\n",
      "Pour k= 85, on a top1= 0.0\n",
      "Pour k= 90, on a top1= 0.0\n",
      "Pour k= 95, on a top1= 0.0\n"
     ]
    },
    {
     "data": {
      "text/plain": [
       "0"
      ]
     },
     "execution_count": 238,
     "metadata": {},
     "output_type": "execute_result"
    }
   ],
   "source": [
    "test_4(train5,test5,K)"
   ]
  },
  {
   "cell_type": "code",
   "execution_count": null,
   "id": "86e06bc9",
   "metadata": {},
   "outputs": [],
   "source": []
  },
  {
   "cell_type": "markdown",
   "id": "aaa074c1",
   "metadata": {},
   "source": [
    "### Conclusion "
   ]
  },
  {
   "cell_type": "markdown",
   "id": "a4572774",
   "metadata": {},
   "source": [
    "La meilleur valeur de k en utilisant le vote à l'unanimité est 1"
   ]
  },
  {
   "cell_type": "markdown",
   "id": "0d107a9d",
   "metadata": {},
   "source": [
    "### 4-Test avec k=1 en vote à l'unaminité pour les données TP1,TP2,TP3"
   ]
  },
  {
   "cell_type": "code",
   "execution_count": null,
   "id": "2cb516f7",
   "metadata": {},
   "outputs": [],
   "source": [
    "data_train=pd.read_csv('data_tp1_app.txt', sep = ' ' ,names=header_list)\n",
    "data_test=pd.read_csv('data_tp1_dec.txt', sep = ' ' ,names=header_list)\n",
    "data_train2=pd.read_csv('data_tp2_app.txt', sep = ' ' ,names=header_list)\n",
    "data_test2=pd.read_csv('data_tp2_dec.txt', sep = ' ' ,names=header_list)\n",
    "data_train3=pd.read_csv('data_tp3_app.txt', sep = ' ' ,names=header_list)\n",
    "data_test3=pd.read_csv('data_tp3_dec.txt', sep = ' ' ,names=header_list)"
   ]
  },
  {
   "cell_type": "markdown",
   "id": "d185904d",
   "metadata": {},
   "source": [
    "On Commence par TP1"
   ]
  },
  {
   "cell_type": "code",
   "execution_count": 240,
   "id": "54cdd6a3",
   "metadata": {},
   "outputs": [],
   "source": [
    "k=1"
   ]
  },
  {
   "cell_type": "code",
   "execution_count": 241,
   "id": "e9fa8262",
   "metadata": {},
   "outputs": [],
   "source": [
    "Matrix,top1=test2(data_train,data_test,k)"
   ]
  },
  {
   "cell_type": "code",
   "execution_count": 242,
   "id": "3fba6288",
   "metadata": {},
   "outputs": [
    {
     "data": {
      "text/plain": [
       "(array([[ 99.,   0.,   0.,   0.,   1.],\n",
       "        [  0.,  99.,   0.,   0.,   1.],\n",
       "        [  0.,   0., 100.,   0.,   0.],\n",
       "        [  0.,   0.,   0., 100.,   0.],\n",
       "        [  0.,   0.,   1.,   1.,  98.]]),\n",
       " 0.992)"
      ]
     },
     "execution_count": 242,
     "metadata": {},
     "output_type": "execute_result"
    }
   ],
   "source": [
    "Matrix,top1"
   ]
  },
  {
   "cell_type": "code",
   "execution_count": 248,
   "id": "295f087c",
   "metadata": {},
   "outputs": [],
   "source": [
    "###TP2\n",
    "Matrix,top1=test2(data_train2,data_test2,k)"
   ]
  },
  {
   "cell_type": "code",
   "execution_count": 249,
   "id": "9d36cc9e",
   "metadata": {},
   "outputs": [
    {
     "data": {
      "text/plain": [
       "(array([[100.,   0.,   0.,   0.,   0.],\n",
       "        [  0.,  89.,  11.,   0.,   0.],\n",
       "        [  2.,   4.,  83.,   2.,   9.],\n",
       "        [  0.,   0.,   3.,  96.,   1.],\n",
       "        [  0.,   0.,   7.,   1.,  92.]]),\n",
       " 0.92)"
      ]
     },
     "execution_count": 249,
     "metadata": {},
     "output_type": "execute_result"
    }
   ],
   "source": [
    "Matrix,top1"
   ]
  },
  {
   "cell_type": "code",
   "execution_count": 250,
   "id": "53a322ef",
   "metadata": {},
   "outputs": [],
   "source": [
    "###TP3\n",
    "Matrix,top1=test2(data_train3,data_test3,k)"
   ]
  },
  {
   "cell_type": "code",
   "execution_count": 251,
   "id": "b5f58d15",
   "metadata": {},
   "outputs": [
    {
     "data": {
      "text/plain": [
       "(array([[34., 20., 19., 14., 13.],\n",
       "        [14., 76.,  4.,  1.,  5.],\n",
       "        [24.,  4., 71.,  1.,  0.],\n",
       "        [19.,  2., 12., 65.,  2.],\n",
       "        [15.,  7.,  1.,  0., 77.]]),\n",
       " 0.646)"
      ]
     },
     "execution_count": 251,
     "metadata": {},
     "output_type": "execute_result"
    }
   ],
   "source": [
    "Matrix,top1"
   ]
  },
  {
   "cell_type": "code",
   "execution_count": null,
   "id": "597d344a",
   "metadata": {},
   "outputs": [],
   "source": []
  },
  {
   "cell_type": "markdown",
   "id": "edf9e5df",
   "metadata": {},
   "source": [
    "### 5-Test avec k=5 en vote à la majorité pour les données TP1,TP2,TP3"
   ]
  },
  {
   "cell_type": "code",
   "execution_count": 252,
   "id": "7acd370f",
   "metadata": {},
   "outputs": [],
   "source": [
    "k=5"
   ]
  },
  {
   "cell_type": "code",
   "execution_count": 254,
   "id": "0806c712",
   "metadata": {},
   "outputs": [],
   "source": [
    "###TP1\n",
    "Matrix,top1=test(data_train,data_test,k)"
   ]
  },
  {
   "cell_type": "code",
   "execution_count": 255,
   "id": "f01f80a7",
   "metadata": {},
   "outputs": [
    {
     "data": {
      "text/plain": [
       "(array([[ 98.,   0.,   0.,   0.,   2.],\n",
       "        [  0.,  97.,   0.,   0.,   3.],\n",
       "        [  0.,   0., 100.,   0.,   0.],\n",
       "        [  0.,   0.,   0., 100.,   0.],\n",
       "        [  0.,   0.,   0.,   1.,  99.]]),\n",
       " 0.988)"
      ]
     },
     "execution_count": 255,
     "metadata": {},
     "output_type": "execute_result"
    }
   ],
   "source": [
    "Matrix,top1"
   ]
  },
  {
   "cell_type": "code",
   "execution_count": 256,
   "id": "c8b0811e",
   "metadata": {},
   "outputs": [],
   "source": [
    "###TP2\n",
    "Matrix,top1=test(data_train2,data_test2,k)"
   ]
  },
  {
   "cell_type": "code",
   "execution_count": 257,
   "id": "895d9b95",
   "metadata": {},
   "outputs": [
    {
     "data": {
      "text/plain": [
       "(array([[ 98.,   1.,   1.,   0.,   0.],\n",
       "        [  0.,  74.,  25.,   1.,   0.],\n",
       "        [  0.,   2.,  78.,   5.,  15.],\n",
       "        [  0.,   0.,   3.,  93.,   4.],\n",
       "        [  0.,   0.,   0.,   0., 100.]]),\n",
       " 0.886)"
      ]
     },
     "execution_count": 257,
     "metadata": {},
     "output_type": "execute_result"
    }
   ],
   "source": [
    "Matrix,top1"
   ]
  },
  {
   "cell_type": "code",
   "execution_count": 258,
   "id": "e86f6957",
   "metadata": {},
   "outputs": [
    {
     "data": {
      "text/plain": [
       "(array([[ 1., 11., 38., 21., 29.],\n",
       "        [ 1., 59., 17.,  1., 22.],\n",
       "        [ 1.,  3., 90.,  5.,  1.],\n",
       "        [ 0.,  1., 19., 72.,  8.],\n",
       "        [ 0.,  2.,  2.,  2., 94.]]),\n",
       " 0.632)"
      ]
     },
     "execution_count": 258,
     "metadata": {},
     "output_type": "execute_result"
    }
   ],
   "source": [
    "###TP3\n",
    "Matrix,top1=test(data_train3,data_test3,k)\n",
    "Matrix,top1"
   ]
  },
  {
   "cell_type": "code",
   "execution_count": null,
   "id": "ec302587",
   "metadata": {},
   "outputs": [],
   "source": []
  }
 ],
 "metadata": {
  "kernelspec": {
   "display_name": "Python 3 (ipykernel)",
   "language": "python",
   "name": "python3"
  },
  "language_info": {
   "codemirror_mode": {
    "name": "ipython",
    "version": 3
   },
   "file_extension": ".py",
   "mimetype": "text/x-python",
   "name": "python",
   "nbconvert_exporter": "python",
   "pygments_lexer": "ipython3",
   "version": "3.9.12"
  }
 },
 "nbformat": 4,
 "nbformat_minor": 5
}
